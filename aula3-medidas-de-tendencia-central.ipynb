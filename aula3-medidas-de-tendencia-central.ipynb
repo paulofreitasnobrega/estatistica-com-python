{
 "cells": [
  {
   "cell_type": "markdown",
   "metadata": {},
   "source": [
    "![Alura <](img/logo-alura.svg)\n",
    "<br><br>\n",
    "    \n",
    "## Estatística com Python parte 1: Frequências e Medidas\n",
    "\n",
    "- Nível: Básico \n",
    "- Aluno: Paulo Freitas Nobrega \n",
    "- Professor: Rodrigo Fernando Dias \n",
    "- Link do curso: https://cursos.alura.com.br/course/estatistica-distribuicoes-e-medidas\n",
    "<br><br>\n",
    "\n",
    "##### Dataset: Pesquisa Nacional por Amostra de Domicílios (PNAD) 2015\n",
    "> O sistema de pesquisas domiciliares, implantado progressivamente no Brasil a partir de 1967, com a criação da **Pesquisa Nacional por Amostra de Domicílios - PNAD**, produz informações básicas para o estudo do desenvolvimento socioeconômico do País.\n",
    "\n",
    "##### Dataset: Boletins\n",
    "> Pequeno conjunto de dados para auxiliar a aula. Contitui-se de variáveis do tipo quantitativa (numérica) contínua.\n",
    "\n",
    "<br>\n",
    "\n",
    "### Aula 03: Medidas de Tendência Central\n",
    "Variáveis com dados de medição ou contagem podem possuir milhares de valores diferentes. Um passo fundamental na exploração de seus dados é definir um \"valor típico\" para cada feature (variável): uma estimativa de onde a maioria dos dados está localiada. Ou seja, sua tendência central.\n",
    "\n",
    "---\n",
    "BRUCE, Peter. **Estatística Prática para Cientistas de Dados**: 50 Conceitos Essenciais. 1. ed. p. 9. Rio de Janeiro: Alta Books, 2019."
   ]
  },
  {
   "cell_type": "markdown",
   "metadata": {},
   "source": [
    "### Fórmulas e conceitos estatísticos para esta aula.\n",
    "\n",
    "Outliers: Valor que seja muito distante dos valores em um conjunto de dados.\n",
    "\n",
    "$n$ = Número de elementos da amostra/população\n",
    "\n",
    "$\\bar x$ = Média, onde: $\\bar x=\\frac{\\sum_{i}^n x_i}{n}$\n",
    "\n",
    "$md$ = Mediana, onde $n$ é `ímpar`: $md=x_{\\frac{n+1}{2}}$\n",
    "\n",
    "$md$ = Mediana, onde $n$ é `par`: <br>\n",
    "$md=\\Large{\\frac{x_{\\frac{n}{2}} + x_{\\frac{n+1}{2}}}{2}}$"
   ]
  },
  {
   "cell_type": "code",
   "execution_count": 1,
   "metadata": {},
   "outputs": [],
   "source": [
    "# Bibliotecas\n",
    "import pandas as pd\n",
    "import numpy as np\n",
    "import seaborn as sns\n",
    "import scipy as misc\n",
    "import matplotlib.pyplot as plt\n",
    "\n",
    "# Aplicando Estilo Matplotlib\n",
    "plt.style.use('seaborn')\n",
    "\n",
    "# Importando Dataset PNAD\n",
    "df_pnad = pd.read_csv('dados.csv')\n",
    "\n",
    "# Importando Dataset Boletins\n",
    "df_boletins = pd.read_csv('dados_boletins.csv', index_col='Matérias')"
   ]
  },
  {
   "cell_type": "code",
   "execution_count": 2,
   "metadata": {},
   "outputs": [
    {
     "data": {
      "text/html": [
       "<div>\n",
       "<style scoped>\n",
       "    .dataframe tbody tr th:only-of-type {\n",
       "        vertical-align: middle;\n",
       "    }\n",
       "\n",
       "    .dataframe tbody tr th {\n",
       "        vertical-align: top;\n",
       "    }\n",
       "\n",
       "    .dataframe thead th {\n",
       "        text-align: right;\n",
       "    }\n",
       "</style>\n",
       "<table border=\"1\" class=\"dataframe\">\n",
       "  <thead>\n",
       "    <tr style=\"text-align: right;\">\n",
       "      <th></th>\n",
       "      <th>UF</th>\n",
       "      <th>Sexo</th>\n",
       "      <th>Idade</th>\n",
       "      <th>Cor</th>\n",
       "      <th>Anos de Estudo</th>\n",
       "      <th>Renda</th>\n",
       "      <th>Altura</th>\n",
       "    </tr>\n",
       "  </thead>\n",
       "  <tbody>\n",
       "    <tr>\n",
       "      <th>0</th>\n",
       "      <td>11</td>\n",
       "      <td>0</td>\n",
       "      <td>23</td>\n",
       "      <td>8</td>\n",
       "      <td>12</td>\n",
       "      <td>800</td>\n",
       "      <td>1.603808</td>\n",
       "    </tr>\n",
       "    <tr>\n",
       "      <th>1</th>\n",
       "      <td>11</td>\n",
       "      <td>1</td>\n",
       "      <td>23</td>\n",
       "      <td>2</td>\n",
       "      <td>12</td>\n",
       "      <td>1150</td>\n",
       "      <td>1.739790</td>\n",
       "    </tr>\n",
       "    <tr>\n",
       "      <th>2</th>\n",
       "      <td>11</td>\n",
       "      <td>1</td>\n",
       "      <td>35</td>\n",
       "      <td>8</td>\n",
       "      <td>15</td>\n",
       "      <td>880</td>\n",
       "      <td>1.760444</td>\n",
       "    </tr>\n",
       "    <tr>\n",
       "      <th>3</th>\n",
       "      <td>11</td>\n",
       "      <td>0</td>\n",
       "      <td>46</td>\n",
       "      <td>2</td>\n",
       "      <td>6</td>\n",
       "      <td>3500</td>\n",
       "      <td>1.783158</td>\n",
       "    </tr>\n",
       "    <tr>\n",
       "      <th>4</th>\n",
       "      <td>11</td>\n",
       "      <td>1</td>\n",
       "      <td>47</td>\n",
       "      <td>8</td>\n",
       "      <td>9</td>\n",
       "      <td>150</td>\n",
       "      <td>1.690631</td>\n",
       "    </tr>\n",
       "  </tbody>\n",
       "</table>\n",
       "</div>"
      ],
      "text/plain": [
       "   UF  Sexo  Idade  Cor  Anos de Estudo  Renda    Altura\n",
       "0  11     0     23    8              12    800  1.603808\n",
       "1  11     1     23    2              12   1150  1.739790\n",
       "2  11     1     35    8              15    880  1.760444\n",
       "3  11     0     46    2               6   3500  1.783158\n",
       "4  11     1     47    8               9    150  1.690631"
      ]
     },
     "execution_count": 2,
     "metadata": {},
     "output_type": "execute_result"
    }
   ],
   "source": [
    "# Exibindo dados do Dataset PNAD\n",
    "df_pnad.head()"
   ]
  },
  {
   "cell_type": "code",
   "execution_count": 3,
   "metadata": {},
   "outputs": [
    {
     "data": {
      "text/html": [
       "<div>\n",
       "<style scoped>\n",
       "    .dataframe tbody tr th:only-of-type {\n",
       "        vertical-align: middle;\n",
       "    }\n",
       "\n",
       "    .dataframe tbody tr th {\n",
       "        vertical-align: top;\n",
       "    }\n",
       "\n",
       "    .dataframe thead th {\n",
       "        text-align: right;\n",
       "    }\n",
       "</style>\n",
       "<table border=\"1\" class=\"dataframe\">\n",
       "  <thead>\n",
       "    <tr style=\"text-align: right;\">\n",
       "      <th></th>\n",
       "      <th>Fulano</th>\n",
       "      <th>Beltrano</th>\n",
       "      <th>Sicrano</th>\n",
       "    </tr>\n",
       "    <tr>\n",
       "      <th>Matérias</th>\n",
       "      <th></th>\n",
       "      <th></th>\n",
       "      <th></th>\n",
       "    </tr>\n",
       "  </thead>\n",
       "  <tbody>\n",
       "    <tr>\n",
       "      <th>Matemática</th>\n",
       "      <td>8</td>\n",
       "      <td>10.0</td>\n",
       "      <td>7.5</td>\n",
       "    </tr>\n",
       "    <tr>\n",
       "      <th>Português</th>\n",
       "      <td>10</td>\n",
       "      <td>0.0</td>\n",
       "      <td>8.0</td>\n",
       "    </tr>\n",
       "    <tr>\n",
       "      <th>Inglês</th>\n",
       "      <td>4</td>\n",
       "      <td>0.5</td>\n",
       "      <td>7.0</td>\n",
       "    </tr>\n",
       "    <tr>\n",
       "      <th>Geografia</th>\n",
       "      <td>8</td>\n",
       "      <td>1.0</td>\n",
       "      <td>8.0</td>\n",
       "    </tr>\n",
       "    <tr>\n",
       "      <th>Histório</th>\n",
       "      <td>6</td>\n",
       "      <td>3.0</td>\n",
       "      <td>8.0</td>\n",
       "    </tr>\n",
       "  </tbody>\n",
       "</table>\n",
       "</div>"
      ],
      "text/plain": [
       "            Fulano  Beltrano  Sicrano\n",
       "Matérias                             \n",
       "Matemática       8      10.0      7.5\n",
       "Português       10       0.0      8.0\n",
       "Inglês           4       0.5      7.0\n",
       "Geografia        8       1.0      8.0\n",
       "Histório         6       3.0      8.0"
      ]
     },
     "execution_count": 3,
     "metadata": {},
     "output_type": "execute_result"
    }
   ],
   "source": [
    "# Exibindo dados do Dataset Boletins\n",
    "df_boletins.head()"
   ]
  },
  {
   "cell_type": "markdown",
   "metadata": {},
   "source": [
    "### Média\n",
    "\n",
    "A média aritimética, ou simplesmente média, é a medida de tendência central mais conhecida e utilizada para resumir a informação contida em um conjunto de dados. Trata-se da soma de todos os valores, dividido pelo número de elementos.\n",
    "\n",
    "> Em uma **amostra da população** utiliza-se o símbolo $\\bar x$ (x barra) para representar a média e $n$ (minúsculo) para se referir ao número total de elementos. Tratando-se da **população**, utiliza-se os símbolos $\\mu$ e $N$ (maiúsculo) respectivamente.\n",
    "\n",
    "> Média é uma medida susetível aos efeitos de `outliers` (casos extremos). Alternativas para média aritimética são: **média aparada**, **média ponderada**, etc. \n",
    "\n",
    "Média da População: $\\mu=\\frac{\\sum_{i}^N x_i}{N}$\n",
    "\n",
    "Média da Amostra: $\\bar x=\\frac{\\sum_{i}^n x_i}{n}$\n",
    "\n",
    "---\n",
    "BRUCE, Peter. **Estatística Prática para Cientistas de Dados**: 50 Conceitos Essenciais. 1. ed. p. 9, 10. Rio de Janeiro: Alta Books, 2019.\n",
    "\n",
    "VIEIRA, Sonia. **Estatística básica**. 2 ed. p. 43. São Paulo: CENGAGE, 2018."
   ]
  },
  {
   "cell_type": "code",
   "execution_count": 4,
   "metadata": {},
   "outputs": [
    {
     "name": "stdout",
     "output_type": "stream",
     "text": [
      "Nota Média: 7.71\n"
     ]
    }
   ],
   "source": [
    "# Média do boletim de Fulano\n",
    "nota_media = df_boletins['Fulano'].mean()\n",
    "print('Nota Média: {}'.format(round(nota_media, 2)))"
   ]
  },
  {
   "cell_type": "code",
   "execution_count": 5,
   "metadata": {},
   "outputs": [
    {
     "name": "stdout",
     "output_type": "stream",
     "text": [
      "Renda Média: 2000.38\n"
     ]
    }
   ],
   "source": [
    "# Média de renda PNAD\n",
    "renda_media = df_pnad['Renda'].mean()\n",
    "print('Renda Média: {}'.format(round(renda_media, 2)))"
   ]
  },
  {
   "cell_type": "code",
   "execution_count": 6,
   "metadata": {
    "scrolled": true
   },
   "outputs": [
    {
     "data": {
      "text/html": [
       "<div>\n",
       "<style scoped>\n",
       "    .dataframe tbody tr th:only-of-type {\n",
       "        vertical-align: middle;\n",
       "    }\n",
       "\n",
       "    .dataframe tbody tr th {\n",
       "        vertical-align: top;\n",
       "    }\n",
       "\n",
       "    .dataframe thead th {\n",
       "        text-align: right;\n",
       "    }\n",
       "</style>\n",
       "<table border=\"1\" class=\"dataframe\">\n",
       "  <thead>\n",
       "    <tr style=\"text-align: right;\">\n",
       "      <th></th>\n",
       "      <th>Renda</th>\n",
       "    </tr>\n",
       "    <tr>\n",
       "      <th>Sexo</th>\n",
       "      <th></th>\n",
       "    </tr>\n",
       "  </thead>\n",
       "  <tbody>\n",
       "    <tr>\n",
       "      <th>Masculino</th>\n",
       "      <td>2192.44</td>\n",
       "    </tr>\n",
       "    <tr>\n",
       "      <th>Feminino</th>\n",
       "      <td>1566.85</td>\n",
       "    </tr>\n",
       "  </tbody>\n",
       "</table>\n",
       "</div>"
      ],
      "text/plain": [
       "             Renda\n",
       "Sexo              \n",
       "Masculino  2192.44\n",
       "Feminino   1566.85"
      ]
     },
     "execution_count": 6,
     "metadata": {},
     "output_type": "execute_result"
    }
   ],
   "source": [
    "# Média de renda por sexo PNAD\n",
    "# Dicionário de Sexo\n",
    "indices_sexo = {\n",
    "    0: 'Masculino',\n",
    "    1: 'Feminino'\n",
    "}\n",
    "\n",
    "# Médias das features por sexo\n",
    "media_sexo = df_pnad.groupby(['Sexo']).mean()\n",
    "\n",
    "# Renomeacao de indices\n",
    "media_sexo.rename(index=indices_sexo, inplace=True)\n",
    "pd.DataFrame(media_sexo['Renda'].apply(lambda x: round(x, 2)))"
   ]
  },
  {
   "cell_type": "code",
   "execution_count": 7,
   "metadata": {},
   "outputs": [
    {
     "data": {
      "text/plain": [
       "5.0"
      ]
     },
     "execution_count": 7,
     "metadata": {},
     "output_type": "execute_result"
    }
   ],
   "source": [
    "# Criando uma função média\n",
    "def media(conjunto: list) -> float:\n",
    "    \"\"\"Cálcula a média de um conjunto de dados\"\"\"\n",
    "    n = len(conjunto)\n",
    "    somatorio = sum(conjunto)\n",
    "        \n",
    "    return somatorio/n\n",
    "\n",
    "media([1, 2, 3, 4, 5, 6, 7, 8, 9])"
   ]
  },
  {
   "cell_type": "markdown",
   "metadata": {},
   "source": [
    "##### Média Aparada\n",
    "\n",
    "A média aparada é considerada uma estimativa robusta e utilizada para evitar a influência de outliers. Por exemplo, aparar os 10% iniciais e finais (uma escolha comum) dos dados oferecerá, quase sempre, uma proteção contra outliers, exceto nos conjuntos de dados menores. A média aparada pode ser vista como um meio-termo entre a mediana e a média: é robusta com valores extremos nos dados, mas usa mais dados para calcular a estimativa de localização.\n",
    "\n",
    "Média Ponderada da Amostra: $\\Large{\\bar x=\\frac{\\sum_{i=p}^{n-p} + 1^{x_i}}{n-2p}}$ Onde $p$ = valores omitidos.\n",
    "\n",
    "---\n",
    "BRUCE, Peter. **Estatística Prática para Cientistas de Dados**: 50 Conceitos Essenciais. 1. ed. p. 12, 10. Rio de Janeiro: Alta Books, 2019."
   ]
  },
  {
   "cell_type": "code",
   "execution_count": 8,
   "metadata": {},
   "outputs": [
    {
     "name": "stdout",
     "output_type": "stream",
     "text": [
      "Média: 45.0\n",
      "Média Aparada: 5.0\n"
     ]
    }
   ],
   "source": [
    "# Criando a fução média aparada\n",
    "def media_aparada(conjunto: list, proporcao_corte: float=0) -> float:\n",
    "    \"\"\"Cálcula a média aparada de um conjunto de dados\"\"\"\n",
    "    c = sorted(conjunto)\n",
    "    corte = round(proporcao_corte*10)\n",
    "    \n",
    "    if (corte*2) >= len(c)-1:\n",
    "        raise ValueError(\"Proportion too big.\")\n",
    "    elif corte:\n",
    "        del(c[:corte])\n",
    "        del(c[-corte:]) \n",
    "    return sum(c)/len(c)\n",
    "\n",
    "# Exemplo simulando outliers\n",
    "conjunto = [1, 2, 3, 4, 5, 0, 450, 6, 7, 8, 9]\n",
    "media_n = media(conjunto)\n",
    "media_a = media_aparada(conjunto, 0.1)\n",
    "\n",
    "print('Média: {}'.format(media_n))\n",
    "print('Média Aparada: {}'.format(media_a))"
   ]
  },
  {
   "cell_type": "code",
   "execution_count": 9,
   "metadata": {},
   "outputs": [
    {
     "data": {
      "text/plain": [
       "5.0"
      ]
     },
     "execution_count": 9,
     "metadata": {},
     "output_type": "execute_result"
    }
   ],
   "source": [
    "# Média aparada com Scipy\n",
    "misc.stats.trim_mean([1, 2, 3, 4, 5, 0, 450, 6, 7, 8, 9], 0.1)"
   ]
  },
  {
   "cell_type": "markdown",
   "metadata": {},
   "source": [
    "### Mediana\n",
    "\n",
    "A mediana é o número central em uma lista de dados classificada. Se houver um número par de valores de dados (n), o valor central é aquele que não está realmente no conjunto de dados, mas sim a média aritimética dos dois valores que dividem os valores classificados nas metades superior e inferior. \n",
    "\n",
    "Mediana, onde $n$ é `ímpar`: $md=x_{\\frac{n+1}{2}}$\n",
    "\n",
    "Mediana, onde $n$ é `par`: <br>\n",
    "$md=\\Large{\\frac{x_{\\frac{n}{2}} + x_{\\frac{n+1}{2}}}{2}}$\n",
    "\n",
    "---\n",
    "BRUCE, Peter. **Estatística Prática para Cientistas de Dados**: 50 Conceitos Essenciais. 1. ed. p. 11. Rio de Janeiro: Alta Books, 2019."
   ]
  },
  {
   "cell_type": "code",
   "execution_count": 10,
   "metadata": {},
   "outputs": [
    {
     "data": {
      "text/html": [
       "<div>\n",
       "<style scoped>\n",
       "    .dataframe tbody tr th:only-of-type {\n",
       "        vertical-align: middle;\n",
       "    }\n",
       "\n",
       "    .dataframe tbody tr th {\n",
       "        vertical-align: top;\n",
       "    }\n",
       "\n",
       "    .dataframe thead th {\n",
       "        text-align: right;\n",
       "    }\n",
       "</style>\n",
       "<table border=\"1\" class=\"dataframe\">\n",
       "  <thead>\n",
       "    <tr style=\"text-align: right;\">\n",
       "      <th></th>\n",
       "      <th>Fulano</th>\n",
       "    </tr>\n",
       "    <tr>\n",
       "      <th>Matérias</th>\n",
       "      <th></th>\n",
       "    </tr>\n",
       "  </thead>\n",
       "  <tbody>\n",
       "    <tr>\n",
       "      <th>Inglês</th>\n",
       "      <td>4</td>\n",
       "    </tr>\n",
       "    <tr>\n",
       "      <th>Histório</th>\n",
       "      <td>6</td>\n",
       "    </tr>\n",
       "    <tr>\n",
       "      <th>Matemática</th>\n",
       "      <td>8</td>\n",
       "    </tr>\n",
       "    <tr>\n",
       "      <th>Geografia</th>\n",
       "      <td>8</td>\n",
       "    </tr>\n",
       "    <tr>\n",
       "      <th>Química</th>\n",
       "      <td>8</td>\n",
       "    </tr>\n",
       "    <tr>\n",
       "      <th>Português</th>\n",
       "      <td>10</td>\n",
       "    </tr>\n",
       "    <tr>\n",
       "      <th>Física</th>\n",
       "      <td>10</td>\n",
       "    </tr>\n",
       "  </tbody>\n",
       "</table>\n",
       "</div>"
      ],
      "text/plain": [
       "            Fulano\n",
       "Matérias          \n",
       "Inglês           4\n",
       "Histório         6\n",
       "Matemática       8\n",
       "Geografia        8\n",
       "Química          8\n",
       "Português       10\n",
       "Física          10"
      ]
     },
     "execution_count": 10,
     "metadata": {},
     "output_type": "execute_result"
    }
   ],
   "source": [
    "# Boletim de fulano ordenado\n",
    "boletim_fulano = df_boletins['Fulano'].sort_values()\n",
    "pd.DataFrame(boletim_fulano)"
   ]
  },
  {
   "cell_type": "code",
   "execution_count": 11,
   "metadata": {},
   "outputs": [
    {
     "name": "stdout",
     "output_type": "stream",
     "text": [
      "n = 7\n"
     ]
    }
   ],
   "source": [
    "# n do boletim de fulano\n",
    "n = boletim_fulano.shape[0]\n",
    "print('n = {}'.format(n))"
   ]
  },
  {
   "cell_type": "code",
   "execution_count": 12,
   "metadata": {},
   "outputs": [
    {
     "name": "stdout",
     "output_type": "stream",
     "text": [
      "Mediana de Fulano = 8.0\n"
     ]
    }
   ],
   "source": [
    "# Mediana de fulano\n",
    "mediana_fulano = boletim_fulano.median()\n",
    "print('Mediana de Fulano = {}'.format(mediana_fulano))"
   ]
  },
  {
   "cell_type": "code",
   "execution_count": 13,
   "metadata": {},
   "outputs": [
    {
     "data": {
      "text/html": [
       "<div>\n",
       "<style scoped>\n",
       "    .dataframe tbody tr th:only-of-type {\n",
       "        vertical-align: middle;\n",
       "    }\n",
       "\n",
       "    .dataframe tbody tr th {\n",
       "        vertical-align: top;\n",
       "    }\n",
       "\n",
       "    .dataframe thead th {\n",
       "        text-align: right;\n",
       "    }\n",
       "</style>\n",
       "<table border=\"1\" class=\"dataframe\">\n",
       "  <thead>\n",
       "    <tr style=\"text-align: right;\">\n",
       "      <th></th>\n",
       "      <th>Beltrano</th>\n",
       "    </tr>\n",
       "    <tr>\n",
       "      <th>Matérias</th>\n",
       "      <th></th>\n",
       "    </tr>\n",
       "  </thead>\n",
       "  <tbody>\n",
       "    <tr>\n",
       "      <th>Português</th>\n",
       "      <td>0.0</td>\n",
       "    </tr>\n",
       "    <tr>\n",
       "      <th>Inglês</th>\n",
       "      <td>0.5</td>\n",
       "    </tr>\n",
       "    <tr>\n",
       "      <th>Histório</th>\n",
       "      <td>3.0</td>\n",
       "    </tr>\n",
       "    <tr>\n",
       "      <th>Física</th>\n",
       "      <td>9.5</td>\n",
       "    </tr>\n",
       "    <tr>\n",
       "      <th>Matemática</th>\n",
       "      <td>10.0</td>\n",
       "    </tr>\n",
       "    <tr>\n",
       "      <th>Química</th>\n",
       "      <td>10.0</td>\n",
       "    </tr>\n",
       "  </tbody>\n",
       "</table>\n",
       "</div>"
      ],
      "text/plain": [
       "            Beltrano\n",
       "Matérias            \n",
       "Português        0.0\n",
       "Inglês           0.5\n",
       "Histório         3.0\n",
       "Física           9.5\n",
       "Matemática      10.0\n",
       "Química         10.0"
      ]
     },
     "execution_count": 13,
     "metadata": {},
     "output_type": "execute_result"
    }
   ],
   "source": [
    "# Simulando conjunto com n par\n",
    "boletim_beltrano = df_boletins['Beltrano'].sample(6, random_state=101)\n",
    "pd.DataFrame(boletim_beltrano.sort_values())"
   ]
  },
  {
   "cell_type": "code",
   "execution_count": 14,
   "metadata": {},
   "outputs": [
    {
     "name": "stdout",
     "output_type": "stream",
     "text": [
      "Mediana de Beltrano = 6.25\n"
     ]
    }
   ],
   "source": [
    "# Mediana de beltrano\n",
    "mediana_beltrano = boletim_beltrano.median()\n",
    "print('Mediana de Beltrano = {}'.format(mediana_beltrano))"
   ]
  },
  {
   "cell_type": "code",
   "execution_count": 15,
   "metadata": {},
   "outputs": [],
   "source": [
    "# Criando uma função mediana\n",
    "# Função auxiliar para verificar a imparidade de n\n",
    "def imparidade(n: int) -> bool:\n",
    "    \"\"\"Verifica imparidade de n\"\"\"\n",
    "    return n % 2 > 0\n",
    "\n",
    "\n",
    "# Função mediana\n",
    "def mediana(conjunto: list) -> float:\n",
    "    \"\"\"Cálcula a mediana de um conjunto de dados\"\"\"    \n",
    "    c, n = sorted(conjunto), len(conjunto)\n",
    "    meio = n//2\n",
    "    md = c[meio] if imparidade(n) else (c[meio-1] + c[meio]) / 2\n",
    "    \n",
    "    return float(md)"
   ]
  },
  {
   "cell_type": "code",
   "execution_count": 16,
   "metadata": {},
   "outputs": [
    {
     "name": "stdout",
     "output_type": "stream",
     "text": [
      "Conjunto Par: 3.5\n",
      "Conjunto Ímpar: 3.0\n"
     ]
    }
   ],
   "source": [
    "# Conjuntos\n",
    "conjunto_impar = [1, 2, 3, 4, 5]\n",
    "conjunto_par = [1, 2, 3, 4, 5, 6]\n",
    "\n",
    "# Medianas\n",
    "print('Conjunto Par: {}'.format(mediana(conjunto_par)))\n",
    "print('Conjunto Ímpar: {}'.format(mediana(conjunto_impar)))"
   ]
  },
  {
   "cell_type": "code",
   "execution_count": 17,
   "metadata": {},
   "outputs": [
    {
     "name": "stdout",
     "output_type": "stream",
     "text": [
      "Média = 27.5\n",
      "Média Aparada = 3.5\n",
      "Mediana = 3.5\n"
     ]
    }
   ],
   "source": [
    "# Simulando Outliers\n",
    "conjunto_outliers = [1, 2, 3, 4, 5, 150]\n",
    "\n",
    "# Efeito de outliers no centro do conjunto\n",
    "print('Média = {}'.format(media(conjunto_outliers)))\n",
    "print('Média Aparada = {}'.format(media_aparada(conjunto_outliers, 0.1)))\n",
    "print('Mediana = {}'.format(mediana(conjunto_outliers)))"
   ]
  },
  {
   "cell_type": "markdown",
   "metadata": {},
   "source": [
    "### Moda\n",
    "\n",
    "A moda é o valor que ocorre com maior frequência. Em relação a moda, um conjunto de dados pode ser:\n",
    "\n",
    "- `amodal`: Não ter moda\n",
    "- `unimodal`: Possuir uma moda\n",
    "- `bimodal`: Possuir duas modas\n",
    "- `multimodal`: Possuir várias modas (acima de duas)\n",
    "\n",
    "A moda também pode ser usada para descrever dados qualitativos. Neste caso, a moda é a *categoria* que ocorre com maior frequência, ou seja, a categoria que contem a maior quantidade de dados.\n",
    "\n",
    "---\n",
    "VIEIRA, Sonia. **Estatística básica**. 2 ed. p. 50, 51. São Paulo: CENGAGE, 2018."
   ]
  },
  {
   "cell_type": "code",
   "execution_count": 18,
   "metadata": {},
   "outputs": [
    {
     "data": {
      "text/plain": [
       "0    8\n",
       "dtype: int64"
      ]
     },
     "execution_count": 18,
     "metadata": {},
     "output_type": "execute_result"
    }
   ],
   "source": [
    "# Moda do fulano\n",
    "df_boletins['Fulano'].mode()"
   ]
  },
  {
   "cell_type": "code",
   "execution_count": 19,
   "metadata": {},
   "outputs": [
    {
     "data": {
      "text/plain": [
       "0    788\n",
       "dtype: int64"
      ]
     },
     "execution_count": 19,
     "metadata": {},
     "output_type": "execute_result"
    }
   ],
   "source": [
    "# Moda de renda PNAD\n",
    "df_pnad['Renda'].mode()"
   ]
  },
  {
   "cell_type": "code",
   "execution_count": 20,
   "metadata": {},
   "outputs": [
    {
     "data": {
      "text/plain": [
       "([8], 3)"
      ]
     },
     "execution_count": 20,
     "metadata": {},
     "output_type": "execute_result"
    }
   ],
   "source": [
    "# Criando uma função moda\n",
    "from collections import Counter\n",
    "\n",
    "def moda(conjunto: list) -> float:\n",
    "    \"\"\"Encontra a(s) moda(s) de um conjunto de dados\"\"\"\n",
    "    counts = Counter(conjunto)\n",
    "    max_count = max(counts.values())\n",
    "    \n",
    "    return ([x for x in counts.keys() \n",
    "             if counts[x] == max_count], max_count)\n",
    "\n",
    "moda(df_boletins['Fulano'].values)"
   ]
  },
  {
   "cell_type": "code",
   "execution_count": 21,
   "metadata": {},
   "outputs": [
    {
     "data": {
      "text/plain": [
       "ModeResult(mode=array([8], dtype=int64), count=array([3]))"
      ]
     },
     "execution_count": 21,
     "metadata": {},
     "output_type": "execute_result"
    }
   ],
   "source": [
    "# Moda com Scipy\n",
    "misc.stats.mode(df_boletins['Fulano'].values)"
   ]
  },
  {
   "cell_type": "markdown",
   "metadata": {},
   "source": [
    "### Relação entre medidas de tendência central \n",
    "\n",
    "Em dados de comportamento `Simétrico`, ambas medidas possuem tendência de estarem próximas ou serem iguais. Neste caso entende-se `Moda = Mediana = Média`. Já em dados `Assimétricos à Direita` (assimetria positiva), os valores mais baixos são os mais frequentes, e a longa cauda à direita puxa a média em sua direção. Neste caso entende-se `Moda < Mediana < Média`. Por fim, em dados `Assimétricos à Esquerda` (assimetria negativa), os valores mais altos são os mais frequentes, e a média é puxada para a direção oposta. Neste caso entende-se `Moda > Mediana > Média`.\n",
    "<br><br>\n",
    "\n",
    "![Alura <](img/0001.jpg)"
   ]
  },
  {
   "cell_type": "code",
   "execution_count": 23,
   "metadata": {},
   "outputs": [
    {
     "data": {
      "image/png": "[encoded data removed]",
      "text/plain": [
       "<Figure size 576x396 with 1 Axes>"
      ]
     },
     "metadata": {},
     "output_type": "display_data"
    }
   ],
   "source": [
    "# Curva de renda PNAD\n",
    "sns.distplot(df_pnad.query('Renda < 7500')['Renda']);"
   ]
  },
  {
   "cell_type": "code",
   "execution_count": 31,
   "metadata": {},
   "outputs": [
    {
     "name": "stdout",
     "output_type": "stream",
     "text": [
      "Moda: 788, Média: 2000.3831988547631, Mediana: 1200.0\n",
      "Assimétrica Direita: True\n"
     ]
    }
   ],
   "source": [
    "# Relação entre medidas de tendência central renda PNAD\n",
    "renda = df_pnad['Renda']\n",
    "moda_renda = renda.mode()[0]\n",
    "media_renda = renda.mean()\n",
    "mediana_renda = renda.median()\n",
    "\n",
    "# Exibindo valores\n",
    "print('Moda: {}, Média: {}, Mediana: {}'.format(moda_renda,\n",
    "                                               media_renda,\n",
    "                                               mediana_renda))\n",
    "\n",
    "# Curva assimétrica a direita?\n",
    "assimetrica_direita = moda_renda < mediana_renda < media_renda\n",
    "print('Assimétrica Direita: {}'.format(assimetrica_direita))"
   ]
  },
  {
   "cell_type": "code",
   "execution_count": 32,
   "metadata": {},
   "outputs": [
    {
     "data": {
      "image/png": "[encoded data removed]",
      "text/plain": [
       "<Figure size 576x396 with 1 Axes>"
      ]
     },
     "metadata": {},
     "output_type": "display_data"
    }
   ],
   "source": [
    "# Curva de altura PNAD\n",
    "sns.distplot(df_pnad['Altura']);"
   ]
  },
  {
   "cell_type": "code",
   "execution_count": 35,
   "metadata": {},
   "outputs": [
    {
     "name": "stdout",
     "output_type": "stream",
     "text": [
      "Moda: 0    1.568128\n",
      "1    1.671225\n",
      "2    1.681659\n",
      "3    1.692977\n",
      "4    1.708163\n",
      "5    1.708370\n",
      "6    1.753842\n",
      "7    1.779073\n",
      "8    1.796462\n",
      "dtype: float64, Média: 1.6995124540575741, Mediana: 1.6993247325\n"
     ]
    }
   ],
   "source": [
    "# Relação entre medidas de tendência central renda PNAD\n",
    "altura = df_pnad['Altura']\n",
    "moda_altura = altura.mode()\n",
    "media_altura = altura.mean()\n",
    "mediana_altura = altura.median()\n",
    "\n",
    "# Exibindo valores\n",
    "print('Moda: {}, Média: {}, Mediana: {}'.format(moda_altura,\n",
    "                                               media_altura,\n",
    "                                               mediana_altura))"
   ]
  }
 ],
 "metadata": {
  "kernelspec": {
   "display_name": "Python 3",
   "language": "python",
   "name": "python3"
  },
  "language_info": {
   "codemirror_mode": {
    "name": "ipython",
    "version": 3
   },
   "file_extension": ".py",
   "mimetype": "text/x-python",
   "name": "python",
   "nbconvert_exporter": "python",
   "pygments_lexer": "ipython3",
   "version": "3.8.2"
  }
 },
 "nbformat": 4,
 "nbformat_minor": 4
}
