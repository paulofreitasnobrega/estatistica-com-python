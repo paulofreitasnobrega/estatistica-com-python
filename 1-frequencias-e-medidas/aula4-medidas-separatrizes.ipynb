{
 "cells": [
  {
   "cell_type": "markdown",
   "metadata": {},
   "source": [
    "![](img/logo-alura.svg)\n",
    "<br><br>\n",
    "    \n",
    "## Estatística com Python parte 1: Frequências e Medidas\n",
    "\n",
    "- Nível: Básico \n",
    "- Aluno: Paulo Freitas Nobrega \n",
    "- Professor: Rodrigo Fernando Dias \n",
    "- Link do curso: https://cursos.alura.com.br/course/estatistica-distribuicoes-e-medidas\n",
    "<br><br>\n",
    "\n",
    "##### Dataset: Pesquisa Nacional por Amostra de Domicílios (PNAD) 2015\n",
    "> O sistema de pesquisas domiciliares, implantado progressivamente no Brasil a partir de 1967, com a criação da **Pesquisa Nacional por Amostra de Domicílios - PNAD**, produz informações básicas para o estudo do desenvolvimento socioeconômico do País.\n",
    "\n",
    "<br>\n",
    "\n",
    "### Aula 04: Medidas separatrizes\n",
    "As medidas separatrizes ou de ordenamento são: `quartis`, `decis` e `percentis`. Os quartis ($Q_1$, $Q_2$ e $Q_3$), como o próprio nome sugere, divide a distribuição dos dados ordenados em quatro partes, sendo, $Q_1$ o quartil que separa os 25% valores inferiores dos 75% superiores, $Q_2$ o que divide o conjunto ao meio (é a mediana) e $Q_3$ o que separa os 75% valores inferiores dos 25% superiores. Os decis, por sua vez, dividem a distribuição dos dados em 10 partes ($D_i, i=1,2,…,9$) e os percentis dividem a distribuição em 100 partes ($P_i=1,2,…,99$).\n",
    "\n",
    "> Não há um consenso universal sobre um procedimento único para o cálculo das medidas separatrizes, e diferentes calculadoras e softwares estatísticos podem produzir resultados ligeiramente diferentes.\n",
    "\n",
    "---\n",
    "FERREIRA, Valéria. **Estatística básica**. p. 76. São Paulo: SESES, 2015."
   ]
  },
  {
   "cell_type": "markdown",
   "metadata": {},
   "source": [
    "### Fórmulas e conceitos estatísticos para esta aula.\n",
    "\n",
    "Outliers: Valor que seja muito distante dos valores em um conjunto de dados.\n",
    "\n",
    "$n$ = Número de elementos da amostra/população\n",
    "\n",
    "$Q1, Q2, Q3$ = Quartis. Onde $Q2$ refere-se a mediana do conjunto de dados.\n",
    "\n",
    "$IQR$ = Distância interquartílica (ou amplitude interquantil). Onde: $IQR = Q3 - Q1$\n",
    "\n",
    "$D$ = Decil. Sendo: $D_i = \\frac{i n}{10}$. Onde: $i = 1,2,...,9$\n",
    "\n",
    "$P$ = Percentil. Onde: $0 < P < 1$ Sendo: $P_i = \\frac{i n}{100}$. Onde: $i = 1,2,...,99$"
   ]
  },
  {
   "cell_type": "code",
   "execution_count": 1,
   "metadata": {},
   "outputs": [],
   "source": [
    "# Bibliotecas\n",
    "import pandas as pd\n",
    "import numpy as np\n",
    "import seaborn as sns\n",
    "import scipy as misc\n",
    "import matplotlib.pyplot as plt\n",
    "\n",
    "# Aplicando Estilo Matplotlib\n",
    "plt.style.use('seaborn')\n",
    "\n",
    "# Importando Dataset PNAD\n",
    "df_pnad = pd.read_csv('dados_pnad.csv')"
   ]
  },
  {
   "cell_type": "code",
   "execution_count": 2,
   "metadata": {},
   "outputs": [
    {
     "data": {
      "text/html": [
       "<div>\n",
       "<style scoped>\n",
       "    .dataframe tbody tr th:only-of-type {\n",
       "        vertical-align: middle;\n",
       "    }\n",
       "\n",
       "    .dataframe tbody tr th {\n",
       "        vertical-align: top;\n",
       "    }\n",
       "\n",
       "    .dataframe thead th {\n",
       "        text-align: right;\n",
       "    }\n",
       "</style>\n",
       "<table border=\"1\" class=\"dataframe\">\n",
       "  <thead>\n",
       "    <tr style=\"text-align: right;\">\n",
       "      <th></th>\n",
       "      <th>UF</th>\n",
       "      <th>Sexo</th>\n",
       "      <th>Idade</th>\n",
       "      <th>Cor</th>\n",
       "      <th>Anos de Estudo</th>\n",
       "      <th>Renda</th>\n",
       "      <th>Altura</th>\n",
       "    </tr>\n",
       "  </thead>\n",
       "  <tbody>\n",
       "    <tr>\n",
       "      <th>0</th>\n",
       "      <td>11</td>\n",
       "      <td>0</td>\n",
       "      <td>23</td>\n",
       "      <td>8</td>\n",
       "      <td>12</td>\n",
       "      <td>800</td>\n",
       "      <td>1.603808</td>\n",
       "    </tr>\n",
       "    <tr>\n",
       "      <th>1</th>\n",
       "      <td>11</td>\n",
       "      <td>1</td>\n",
       "      <td>23</td>\n",
       "      <td>2</td>\n",
       "      <td>12</td>\n",
       "      <td>1150</td>\n",
       "      <td>1.739790</td>\n",
       "    </tr>\n",
       "    <tr>\n",
       "      <th>2</th>\n",
       "      <td>11</td>\n",
       "      <td>1</td>\n",
       "      <td>35</td>\n",
       "      <td>8</td>\n",
       "      <td>15</td>\n",
       "      <td>880</td>\n",
       "      <td>1.760444</td>\n",
       "    </tr>\n",
       "    <tr>\n",
       "      <th>3</th>\n",
       "      <td>11</td>\n",
       "      <td>0</td>\n",
       "      <td>46</td>\n",
       "      <td>2</td>\n",
       "      <td>6</td>\n",
       "      <td>3500</td>\n",
       "      <td>1.783158</td>\n",
       "    </tr>\n",
       "    <tr>\n",
       "      <th>4</th>\n",
       "      <td>11</td>\n",
       "      <td>1</td>\n",
       "      <td>47</td>\n",
       "      <td>8</td>\n",
       "      <td>9</td>\n",
       "      <td>150</td>\n",
       "      <td>1.690631</td>\n",
       "    </tr>\n",
       "  </tbody>\n",
       "</table>\n",
       "</div>"
      ],
      "text/plain": [
       "   UF  Sexo  Idade  Cor  Anos de Estudo  Renda    Altura\n",
       "0  11     0     23    8              12    800  1.603808\n",
       "1  11     1     23    2              12   1150  1.739790\n",
       "2  11     1     35    8              15    880  1.760444\n",
       "3  11     0     46    2               6   3500  1.783158\n",
       "4  11     1     47    8               9    150  1.690631"
      ]
     },
     "execution_count": 2,
     "metadata": {},
     "output_type": "execute_result"
    }
   ],
   "source": [
    "# Exibindo dados do Dataset PNAD\n",
    "df_pnad.head()"
   ]
  },
  {
   "cell_type": "markdown",
   "metadata": {},
   "source": [
    "### Quartil\n",
    "\n",
    "Os quartis dividem um conjunto de dados em quatro partes iguais. Os quartis, são portanto, três: \n",
    "\n",
    "- $Q1$: `o primeiro quartil` \n",
    "- $Q2$: `o segundo quartil` (que é a mediana) \n",
    "- $Q3$: `o terceiro quartil`\n",
    "\n",
    "Para obter os quartis:\n",
    "\n",
    "1. Organize o conjunto de dados em ordem crescente;\n",
    "2. `Q2`: Encontre a mediana do conjunto de dados. Este é o segundo quartil.\n",
    "3. `Q1`: Tome o conjunto de dados à esquerda da mediana; O primeiro quartil é a mediana do novo conjunto de dados.\n",
    "4. `Q3`: Tome o conjunto de dados à direita da mediana; O terceiro quartil é a mediana do novo conjunto de dados.\n",
    "\n",
    "> Pode-se entender os quartis como `divisores`. Da mesma forma que para se dividir um conjunto de dados em duas partes utiliza-se um único divisor - a mediana. Para obter-se quatro partes iguais de um conjunto de dados utiliza-se três divisores 25%, 50% e 75% - Q1, Q2 e Q3.\n",
    "\n",
    "---\n",
    "VIEIRA, Sonia. **Estatística básica**. 2 ed. p. 61, 62, 63. São Paulo: CENGAGE, 2018."
   ]
  },
  {
   "cell_type": "code",
   "execution_count": 3,
   "metadata": {},
   "outputs": [
    {
     "data": {
      "text/plain": [
       "0.25     788.0\n",
       "0.50    1200.0\n",
       "0.75    2000.0\n",
       "Name: Renda, dtype: float64"
      ]
     },
     "execution_count": 3,
     "metadata": {},
     "output_type": "execute_result"
    }
   ],
   "source": [
    "# Quartis de renda PNAD utilizando a função quantile do Pandas\n",
    "divisores = [.25, .5, .75]\n",
    "df_pnad['Renda'].quantile(divisores)"
   ]
  },
  {
   "cell_type": "code",
   "execution_count": 4,
   "metadata": {
    "scrolled": true
   },
   "outputs": [],
   "source": [
    "# Criando uma função quartil\n",
    "# Função Mediana\n",
    "def mediana(conjunto: list) -> float:\n",
    "    \"\"\"Calcula a mediana de um conjunto de dados\"\"\"  \n",
    "    c, n = sorted(conjunto), len(conjunto)\n",
    "    meio = n//2\n",
    "    \n",
    "    return c[meio] if (n%2 > 0) else (c[meio-1] + c[meio]) / 2\n",
    "\n",
    "\n",
    "# Função quartil\n",
    "def quartil(conjunto: list) -> list:\n",
    "    \"\"\"Calcula os quartis de um conjunto de dados\"\"\"\n",
    "    c, n = sorted(conjunto), len(conjunto)\n",
    "    \n",
    "    q2 = mediana(c)\n",
    "    q1 = mediana([k for _,k in enumerate(c) if k < q2])\n",
    "    q3 = mediana([k for _,k in enumerate(c) if k > q2])\n",
    "    \n",
    "    return [q1, q2, q3]"
   ]
  },
  {
   "cell_type": "code",
   "execution_count": 5,
   "metadata": {},
   "outputs": [
    {
     "data": {
      "text/plain": [
       "[788, 1200.0, 2100]"
      ]
     },
     "execution_count": 5,
     "metadata": {},
     "output_type": "execute_result"
    }
   ],
   "source": [
    "# Testando a função quartil com dados de renda PNAD\n",
    "conjunto = df_pnad['Renda'].values\n",
    "quartil(conjunto)"
   ]
  },
  {
   "cell_type": "markdown",
   "metadata": {},
   "source": [
    "##### Outra maneira de encontrar os quartis (Pouco usual)\n",
    "\n",
    "O primeiro quartil `Q1` será a observação que ocupar a posição $\\frac{n}{4}$. O segundo quartil `Q2` será a observação que ocupar a posição $\\frac{2n}{4}$ e o terceiro quartil `Q3` será a observação que ocupar a posição $\\frac{3n}{4}$. Quando fazemos estas divisões para encontrar as posições dos quartis, pode acontecer do resultado ser um número inteiro ou um número fracionário. Então, adotaremos a seguinte convenção:\n",
    "\n",
    "- Se a divisão resultar num número fracionário, arredonde-o para cima e o valor do quartil será a observação encontrada nesta posição.\n",
    "- Se a divisão for um número inteiro, o quartil será a média aritmética da observação que ocupar a posição encontrada com a observação que ocupar a posição imediatamente seguinte.\n",
    "\n",
    "<br>\n",
    "\n",
    "---\n",
    "FERREIRA, Valéria. **Estatística básica**. p. 75. São Paulo: SESES, 2015."
   ]
  },
  {
   "cell_type": "code",
   "execution_count": 6,
   "metadata": {},
   "outputs": [],
   "source": [
    "# Criando uma função quartil (pouco usual)\n",
    "# Função quartil2\n",
    "def quartil2(conjunto: list) -> list:\n",
    "    \"\"\"Calcula os quartis de um conjunto de dados\"\"\"\n",
    "    c, n = sorted(conjunto), len(conjunto)\n",
    "    \n",
    "    # verificar francionario\n",
    "    fracionario = lambda x: True if x%2 > 0 else False\n",
    "    \n",
    "    # media aritimetica\n",
    "    media = lambda i: (c[i] + c[i+1])/2\n",
    "    \n",
    "    # convertendo\n",
    "    convert = lambda q: c[int(q)] if fracionario(q) else media(int(q)-1)    \n",
    "\n",
    "    return [convert(q) for q in (n/4, 2*n/4, 3*n/4)]"
   ]
  },
  {
   "cell_type": "code",
   "execution_count": 7,
   "metadata": {},
   "outputs": [
    {
     "data": {
      "text/plain": [
       "[788.0, 1200.0, 2000.0]"
      ]
     },
     "execution_count": 7,
     "metadata": {},
     "output_type": "execute_result"
    }
   ],
   "source": [
    "# Testando a função quartil2 com dados de renda PNAD\n",
    "conjunto = df_pnad['Renda'].values\n",
    "quartil2(conjunto)"
   ]
  },
  {
   "cell_type": "markdown",
   "metadata": {},
   "source": [
    "##### Decis e Percentis\n",
    "\n",
    "O `Decil` será a observação que ocupar a posição $D_i$.<br> \n",
    "E o `Percentil` será a observação que ocupar a posição $P_i$.\n",
    "\n",
    "$D_i = \\frac{i n}{10}$. Onde: $i = 1,2,...,9$\n",
    "\n",
    "<br>\n",
    "\n",
    "$P_i = \\frac{i n}{100}$. Onde: $i = 1,2,...,99$\n",
    "\n",
    "<br>\n",
    "\n",
    "É possível adotar a conversão convenção:\n",
    "\n",
    "- Se a divisão resultar num número fracionário, arredonde-o para cima e o valor do quartil será a observação encontrada nesta posição.\n",
    "- Se a divisão for um número inteiro, o quartil será a média aritmética da observação que ocupar a posição encontrada com a observação que ocupar a posição imediatamente seguinte.\n",
    "\n",
    "---\n",
    "FERREIRA, Valéria. **Estatística básica**. p. 77. São Paulo: SESES, 2015."
   ]
  },
  {
   "cell_type": "code",
   "execution_count": 8,
   "metadata": {},
   "outputs": [
    {
     "data": {
      "text/plain": [
       "0.1     350.0\n",
       "0.2     788.0\n",
       "0.3     800.0\n",
       "0.4    1000.0\n",
       "0.5    1200.0\n",
       "0.6    1500.0\n",
       "0.7    1900.0\n",
       "0.8    2500.0\n",
       "0.9    4000.0\n",
       "Name: Renda, dtype: float64"
      ]
     },
     "execution_count": 8,
     "metadata": {},
     "output_type": "execute_result"
    }
   ],
   "source": [
    "# Decis de renda PNAD utilizando a função quantile do Pandas\n",
    "divisores = [i/10 for i in range(1,10)]\n",
    "df_pnad['Renda'].quantile(divisores)"
   ]
  },
  {
   "cell_type": "code",
   "execution_count": 9,
   "metadata": {},
   "outputs": [],
   "source": [
    "# Criando uma função melhorada quartil\n",
    "def quartil(conjunto: list, percentis: list) -> list:\n",
    "    \"\"\"Calcula os decis de um conjunto de dados\"\"\"\n",
    "    c, n = sorted(conjunto), len(conjunto)\n",
    "    \n",
    "    fracionario = lambda x: True if x%2 > 0 else False\n",
    "    media = lambda i: (c[i] + c[i+1])/2\n",
    "    convert = lambda p: c[int(p)] if fracionario(p) else media(int(p)-1)    \n",
    "\n",
    "    return { p: convert(p*n) for p in percentis }\n",
    "    "
   ]
  },
  {
   "cell_type": "code",
   "execution_count": 10,
   "metadata": {},
   "outputs": [
    {
     "data": {
      "text/plain": [
       "{0.25: 788.0, 0.5: 1200.0, 0.75: 2000.0}"
      ]
     },
     "execution_count": 10,
     "metadata": {},
     "output_type": "execute_result"
    }
   ],
   "source": [
    "# Quartis (25% em 25%)\n",
    "c, p = df_pnad['Renda'].values, [.25, .5, .75]\n",
    "quartil(c, p)"
   ]
  },
  {
   "cell_type": "code",
   "execution_count": 11,
   "metadata": {},
   "outputs": [
    {
     "data": {
      "text/plain": [
       "{0.1: 350.0,\n",
       " 0.2: 788.0,\n",
       " 0.3: 800.0,\n",
       " 0.4: 1000.0,\n",
       " 0.5: 1200.0,\n",
       " 0.6: 1500.0,\n",
       " 0.7: 1900.0,\n",
       " 0.8: 2500.0,\n",
       " 0.9: 4000.0}"
      ]
     },
     "execution_count": 11,
     "metadata": {},
     "output_type": "execute_result"
    }
   ],
   "source": [
    "# Decis (10% em 10%)\n",
    "c, p = df_pnad['Renda'].values, [i/10 for i in range(1, 10)]\n",
    "quartil(c, p)"
   ]
  },
  {
   "cell_type": "code",
   "execution_count": 12,
   "metadata": {},
   "outputs": [
    {
     "data": {
      "text/plain": [
       "0.01      0.0\n",
       "0.02      0.0\n",
       "0.03      0.0\n",
       "0.04     50.0\n",
       "0.05    100.0\n",
       "0.06    180.0\n",
       "0.07    200.0\n",
       "0.08    280.0\n",
       "0.09    300.0\n",
       "0.10    350.0\n",
       "dtype: float64"
      ]
     },
     "execution_count": 12,
     "metadata": {},
     "output_type": "execute_result"
    }
   ],
   "source": [
    "# Percentis (1% em 1%)\n",
    "c, p = df_pnad['Renda'].values, [i/100 for i in range(1, 100)]\n",
    "pd.Series(quartil(c, p)).head(10)"
   ]
  },
  {
   "cell_type": "markdown",
   "metadata": {},
   "source": [
    "### BoxPlot\n",
    "\n",
    "Os boxplots, apresentados por Tukey (Tukey, 1977), são baseados em percentis e são um modo rápido de visualizar a distribuição dos dados. \n",
    "\n",
    "As partes superior e inferior da caixa são o 75º e o 25º percentis, respectivamente. A mediana (50º percentil) é mostrada pela linha horizontal na caixa. As linhas pontilhadas, chamadas de `whiskers`, se estendem do topo e da base para indicar a variação da massa de dados. Por predefinição, a função estende os whiskers até o ponto mais longe além da caixa, porém não vai além de 1.5 vez o `IQR` (Distância interquartílica ou amplitude interquantil). Quaisquer dados fora da whiskers são representados como pontos únicos (esses dados são candidatos a outliers).\n",
    "\n",
    "<br>\n",
    "\n",
    "![](img/0002.jpg)\n",
    "\n",
    "<br>\n",
    "\n",
    "---\n",
    "BRUCE, Peter. **Estatística Prática para Cientistas de Dados**: 50 Conceitos Essenciais. 1. ed. p. 21, 22. Rio de Janeiro: Alta Books, 2019.\n",
    "\n",
    "VIEIRA, Sonia. **Estatística básica**. 2 ed. p. 61, 62, 63. São Paulo: CENGAGE, 2018."
   ]
  },
  {
   "cell_type": "code",
   "execution_count": 13,
   "metadata": {},
   "outputs": [
    {
     "data": {
      "text/plain": [
       "Text(0.5, 1.0, 'Anos de Estudo por Sexo')"
      ]
     },
     "execution_count": 13,
     "metadata": {},
     "output_type": "execute_result"
    },
    {
     "data": {
      "image/png": "[encoded data removed]",
      "text/plain": [
       "<Figure size 864x288 with 1 Axes>"
      ]
     },
     "metadata": {},
     "output_type": "display_data"
    }
   ],
   "source": [
    "# Comparação de boxplot com Seaborn\n",
    "ax_estudo = sns.boxplot(data=df_pnad, \n",
    "                        x='Anos de Estudo',\n",
    "                        y='Sexo',\n",
    "                        orient='h')\n",
    "ax_estudo.figure.set_size_inches(12, 4)\n",
    "ax_estudo.set_title('Anos de Estudo por Sexo')"
   ]
  },
  {
   "cell_type": "code",
   "execution_count": 14,
   "metadata": {},
   "outputs": [
    {
     "data": {
      "text/plain": [
       "Text(0.5, 0, 'Renda')"
      ]
     },
     "execution_count": 14,
     "metadata": {},
     "output_type": "execute_result"
    },
    {
     "data": {
      "image/png": "[encoded data removed]",
      "text/plain": [
       "<Figure size 864x288 with 1 Axes>"
      ]
     },
     "metadata": {},
     "output_type": "display_data"
    }
   ],
   "source": [
    "# Comparação de boxplot com Seaborn\n",
    "df_renda = df_pnad.query('Renda < 3000')\n",
    "ax_renda = sns.boxplot(data=df_renda, \n",
    "                        x='Renda',\n",
    "                        y='Sexo',\n",
    "                        orient='h')\n",
    "ax_renda.figure.set_size_inches(12, 4)\n",
    "ax_renda.set_title('Renda por Sexo')\n",
    "ax_renda.set_xlabel('Renda')"
   ]
  },
  {
   "cell_type": "code",
   "execution_count": 15,
   "metadata": {},
   "outputs": [],
   "source": [
    "# Criando uma função boxplot fake\n",
    "def boxplot(conjunto: list) -> dict:\n",
    "    \"\"\"Calcula as métricas para criação do boxplot\"\"\"\n",
    "    c, n = sorted(conjunto), len(conjunto)    \n",
    "    \n",
    "    quartis = quartil(conjunto, [.25, .5, .75])\n",
    "    iqr = (quartis[0.75] - quartis[0.25])\n",
    "    \n",
    "    return {\n",
    "        'min': quartis[0.25] - 1.5*iqr,\n",
    "        'Q1': quartis[0.25],\n",
    "        'Q2': quartis[0.50],\n",
    "        'Q3': quartis[0.75],\n",
    "        'max': quartis[0.75] + 1.5*iqr\n",
    "    }"
   ]
  },
  {
   "cell_type": "code",
   "execution_count": 16,
   "metadata": {},
   "outputs": [
    {
     "data": {
      "text/plain": [
       "{'min': 1.48486883225,\n",
       " 'Q1': 1.645785188,\n",
       " 'Q2': 1.6993247325,\n",
       " 'Q3': 1.7530627585,\n",
       " 'max': 1.91397911425}"
      ]
     },
     "execution_count": 16,
     "metadata": {},
     "output_type": "execute_result"
    }
   ],
   "source": [
    "# Observando os dados retornados pela função boxplot\n",
    "boxplot(df_pnad['Altura'])"
   ]
  },
  {
   "cell_type": "code",
   "execution_count": 17,
   "metadata": {},
   "outputs": [
    {
     "data": {
      "text/plain": [
       "Text(0.5, 0, 'Metros')"
      ]
     },
     "execution_count": 17,
     "metadata": {},
     "output_type": "execute_result"
    },
    {
     "data": {
      "image/png": "[encoded data removed]",
      "text/plain": [
       "<Figure size 864x288 with 1 Axes>"
      ]
     },
     "metadata": {},
     "output_type": "display_data"
    }
   ],
   "source": [
    "# Boxplot com Seaborn para confrontar os dados acima\n",
    "ax_altura = sns.boxplot(data=df_pnad, \n",
    "                        x='Altura',\n",
    "                        orient='h')\n",
    "ax_altura.figure.set_size_inches(12, 4)\n",
    "ax_altura.set_title('Boxplot Altura')\n",
    "ax_altura.set_xlabel('Metros')"
   ]
  }
 ],
 "metadata": {
  "kernelspec": {
   "display_name": "Python 3",
   "language": "python",
   "name": "python3"
  },
  "language_info": {
   "codemirror_mode": {
    "name": "ipython",
    "version": 3
   },
   "file_extension": ".py",
   "mimetype": "text/x-python",
   "name": "python",
   "nbconvert_exporter": "python",
   "pygments_lexer": "ipython3",
   "version": "3.8.2"
  }
 },
 "nbformat": 4,
 "nbformat_minor": 4
}
