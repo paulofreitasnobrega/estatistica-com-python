{
 "cells": [
  {
   "cell_type": "markdown",
   "metadata": {},
   "source": [
    "![Alura <](img/logo-alura.svg)\n",
    "<br><br>\n",
    "    \n",
    "## Estatística com Python parte 1: Frequências e Medidas\n",
    "\n",
    "- Nível: Básico \n",
    "- Aluno: Paulo Freitas Nobrega \n",
    "- Professor: Rodrigo Fernando Dias \n",
    "- Link do curso: https://cursos.alura.com.br/course/estatistica-distribuicoes-e-medidas\n",
    "<br><br>\n",
    "\n",
    "##### Dataset: Pesquisa Nacional por Amostra de Domicílios (PNAD) 2015\n",
    "> O sistema de pesquisas domiciliares, implantado progressivamente no Brasil a partir de 1967, com a criação da **Pesquisa Nacional por Amostra de Domicílios - PNAD**, produz informações básicas para o estudo do desenvolvimento socioeconômico do País.\n",
    "\n",
    "##### Dataset: Boletins\n",
    "> Pequeno conjunto de dados para auxiliar a aula. Contitui-se de variáveis do tipo quantitativa (numérica) contínua.\n",
    "\n",
    "<br>\n",
    "\n",
    "### Aula 05: Medidas de Dispersão\n",
    "A `variabilidade`, também chamada de `dispersão`, mede se os valores de dados estão compactados ou espalhados. A variabilidade fica no centro da estatística: medindo, reduzindo, distinguindo variabilidade aleatório de real, indentificando as diversas fontes de variabilidade real e tomando decisões em sua presença.\n",
    "\n",
    "---\n",
    "BRUCE, Peter. **Estatística Prática para Cientistas de Dados**: 50 Conceitos Essenciais. 1. ed. p. 14. Rio de Janeiro: Alta Books, 2019."
   ]
  },
  {
   "cell_type": "markdown",
   "metadata": {},
   "source": [
    "### Fórmulas e conceitos estatísticos para esta aula.\n",
    "\n",
    "Outliers: Valor que seja muito distante dos valores em um conjunto de dados.\n",
    "\n",
    "$n$ = Número de elementos da amostra/população\n",
    "\n",
    "Média Populacional: $\\mu=\\frac{\\sum_{i=1}^N x_i}{N}$\n",
    "\n",
    "Média Amostral: $\\bar x=\\frac{\\sum_{i=1}^n x_i}{n}$\n",
    "\n",
    "Desvio Médio Absoluto: $DM=\\frac{\\sum_{i=1}^n |x_i - \\bar x|}{n}$\n",
    "\n",
    "Variância Populacional: $\\sigma^2=\\frac{\\sum_{i=1}^n (x_i - \\mu)^2}{n}$\n",
    "\n",
    "Variância Amostral: $S^2=\\frac{\\sum_{i=1}^n (x_i - \\bar x)^2}{n-1}$\n",
    "\n",
    "Desvio Padrão Populacional: $\\sigma=\\sqrt{\\frac{\\sum_{i=1}^n (x_i - \\mu)^2}{n}} \\Rightarrow \\sqrt{\\sigma^2}$\n",
    "\n",
    "Desvio Padrão Amostral: $S=\\sqrt{\\frac{\\sum_{i=1}^n (x_i - \\bar x)^2}{n-1}} \\Rightarrow \\sqrt{S^2}$"
   ]
  },
  {
   "cell_type": "code",
   "execution_count": 1,
   "metadata": {},
   "outputs": [],
   "source": [
    "# Bibliotecas\n",
    "import pandas as pd\n",
    "import numpy as np\n",
    "import seaborn as sns\n",
    "import scipy as misc\n",
    "import matplotlib.pyplot as plt\n",
    "\n",
    "# Aplicando Estilo Matplotlib\n",
    "plt.style.use('seaborn')\n",
    "\n",
    "# Importando Dataset PNAD\n",
    "df_pnad = pd.read_csv('dados.csv')\n",
    "\n",
    "# Importando Dataset Boletins\n",
    "df_boletins = pd.read_csv('dados_boletins.csv', index_col='Matérias')"
   ]
  },
  {
   "cell_type": "code",
   "execution_count": 2,
   "metadata": {
    "scrolled": true
   },
   "outputs": [
    {
     "data": {
      "text/html": [
       "<div>\n",
       "<style scoped>\n",
       "    .dataframe tbody tr th:only-of-type {\n",
       "        vertical-align: middle;\n",
       "    }\n",
       "\n",
       "    .dataframe tbody tr th {\n",
       "        vertical-align: top;\n",
       "    }\n",
       "\n",
       "    .dataframe thead th {\n",
       "        text-align: right;\n",
       "    }\n",
       "</style>\n",
       "<table border=\"1\" class=\"dataframe\">\n",
       "  <thead>\n",
       "    <tr style=\"text-align: right;\">\n",
       "      <th></th>\n",
       "      <th>UF</th>\n",
       "      <th>Sexo</th>\n",
       "      <th>Idade</th>\n",
       "      <th>Cor</th>\n",
       "      <th>Anos de Estudo</th>\n",
       "      <th>Renda</th>\n",
       "      <th>Altura</th>\n",
       "    </tr>\n",
       "  </thead>\n",
       "  <tbody>\n",
       "    <tr>\n",
       "      <th>0</th>\n",
       "      <td>11</td>\n",
       "      <td>0</td>\n",
       "      <td>23</td>\n",
       "      <td>8</td>\n",
       "      <td>12</td>\n",
       "      <td>800</td>\n",
       "      <td>1.603808</td>\n",
       "    </tr>\n",
       "    <tr>\n",
       "      <th>1</th>\n",
       "      <td>11</td>\n",
       "      <td>1</td>\n",
       "      <td>23</td>\n",
       "      <td>2</td>\n",
       "      <td>12</td>\n",
       "      <td>1150</td>\n",
       "      <td>1.739790</td>\n",
       "    </tr>\n",
       "    <tr>\n",
       "      <th>2</th>\n",
       "      <td>11</td>\n",
       "      <td>1</td>\n",
       "      <td>35</td>\n",
       "      <td>8</td>\n",
       "      <td>15</td>\n",
       "      <td>880</td>\n",
       "      <td>1.760444</td>\n",
       "    </tr>\n",
       "    <tr>\n",
       "      <th>3</th>\n",
       "      <td>11</td>\n",
       "      <td>0</td>\n",
       "      <td>46</td>\n",
       "      <td>2</td>\n",
       "      <td>6</td>\n",
       "      <td>3500</td>\n",
       "      <td>1.783158</td>\n",
       "    </tr>\n",
       "    <tr>\n",
       "      <th>4</th>\n",
       "      <td>11</td>\n",
       "      <td>1</td>\n",
       "      <td>47</td>\n",
       "      <td>8</td>\n",
       "      <td>9</td>\n",
       "      <td>150</td>\n",
       "      <td>1.690631</td>\n",
       "    </tr>\n",
       "  </tbody>\n",
       "</table>\n",
       "</div>"
      ],
      "text/plain": [
       "   UF  Sexo  Idade  Cor  Anos de Estudo  Renda    Altura\n",
       "0  11     0     23    8              12    800  1.603808\n",
       "1  11     1     23    2              12   1150  1.739790\n",
       "2  11     1     35    8              15    880  1.760444\n",
       "3  11     0     46    2               6   3500  1.783158\n",
       "4  11     1     47    8               9    150  1.690631"
      ]
     },
     "execution_count": 2,
     "metadata": {},
     "output_type": "execute_result"
    }
   ],
   "source": [
    "# Exibindo dados do Dataset PNAD\n",
    "df_pnad.head()"
   ]
  },
  {
   "cell_type": "code",
   "execution_count": 3,
   "metadata": {},
   "outputs": [
    {
     "data": {
      "text/html": [
       "<div>\n",
       "<style scoped>\n",
       "    .dataframe tbody tr th:only-of-type {\n",
       "        vertical-align: middle;\n",
       "    }\n",
       "\n",
       "    .dataframe tbody tr th {\n",
       "        vertical-align: top;\n",
       "    }\n",
       "\n",
       "    .dataframe thead th {\n",
       "        text-align: right;\n",
       "    }\n",
       "</style>\n",
       "<table border=\"1\" class=\"dataframe\">\n",
       "  <thead>\n",
       "    <tr style=\"text-align: right;\">\n",
       "      <th></th>\n",
       "      <th>Fulano</th>\n",
       "      <th>Beltrano</th>\n",
       "      <th>Sicrano</th>\n",
       "    </tr>\n",
       "    <tr>\n",
       "      <th>Matérias</th>\n",
       "      <th></th>\n",
       "      <th></th>\n",
       "      <th></th>\n",
       "    </tr>\n",
       "  </thead>\n",
       "  <tbody>\n",
       "    <tr>\n",
       "      <th>Matemática</th>\n",
       "      <td>8</td>\n",
       "      <td>10.0</td>\n",
       "      <td>7.5</td>\n",
       "    </tr>\n",
       "    <tr>\n",
       "      <th>Português</th>\n",
       "      <td>10</td>\n",
       "      <td>0.0</td>\n",
       "      <td>8.0</td>\n",
       "    </tr>\n",
       "    <tr>\n",
       "      <th>Inglês</th>\n",
       "      <td>4</td>\n",
       "      <td>0.5</td>\n",
       "      <td>7.0</td>\n",
       "    </tr>\n",
       "    <tr>\n",
       "      <th>Geografia</th>\n",
       "      <td>8</td>\n",
       "      <td>1.0</td>\n",
       "      <td>8.0</td>\n",
       "    </tr>\n",
       "    <tr>\n",
       "      <th>História</th>\n",
       "      <td>6</td>\n",
       "      <td>3.0</td>\n",
       "      <td>8.0</td>\n",
       "    </tr>\n",
       "  </tbody>\n",
       "</table>\n",
       "</div>"
      ],
      "text/plain": [
       "            Fulano  Beltrano  Sicrano\n",
       "Matérias                             \n",
       "Matemática       8      10.0      7.5\n",
       "Português       10       0.0      8.0\n",
       "Inglês           4       0.5      7.0\n",
       "Geografia        8       1.0      8.0\n",
       "História         6       3.0      8.0"
      ]
     },
     "execution_count": 3,
     "metadata": {},
     "output_type": "execute_result"
    }
   ],
   "source": [
    "# Exibindo dados do Dataset Boletins\n",
    "df_boletins.head()"
   ]
  },
  {
   "cell_type": "markdown",
   "metadata": {},
   "source": [
    "### Desvio Médio Absoluto\n",
    "\n",
    "`Desvio` nada mais é do que a distância entre qualquer observação do conjunto de dados em relação à estimativa de localização (neste caso a média aritmética) deste mesmo conjunto. \n",
    "\n",
    "Contudo, ponderar os desvios sozinhos não nos diria muito, pois os desvios negativos compensam os positivo. Aliás, a soma dos desvios da média é exatamente zero. Sendo assim, uma abordagem simples é encontrar a média dos `valores absolutos` dos desvios da média aritmética.\n",
    "\n",
    "> Em matemática, o valor absoluto também é conhecido como `módulo`. Ele é representado pelo caracter pipe `|`. Exemplo, módulo de x: `|x|`.\n",
    "\n",
    "---\n",
    "FERREIRA, Valéria. **Estatística básica**. p. 75. São Paulo: SESES, 2015.\n",
    "\n",
    "BRUCE, Peter. **Estatística Prática para Cientistas de Dados**: 50 Conceitos Essenciais. 1. ed. p. 15. Rio de Janeiro: Alta Books, 2019."
   ]
  },
  {
   "cell_type": "code",
   "execution_count": 4,
   "metadata": {},
   "outputs": [
    {
     "data": {
      "text/plain": [
       "Fulano      7.714286\n",
       "Beltrano    4.857143\n",
       "Sicrano     7.714286\n",
       "dtype: float64"
      ]
     },
     "execution_count": 4,
     "metadata": {},
     "output_type": "execute_result"
    }
   ],
   "source": [
    "# Média dos alunos\n",
    "df_boletins.mean()"
   ]
  },
  {
   "cell_type": "code",
   "execution_count": 5,
   "metadata": {},
   "outputs": [
    {
     "data": {
      "text/plain": [
       "Fulano      8.0\n",
       "Beltrano    3.0\n",
       "Sicrano     8.0\n",
       "dtype: float64"
      ]
     },
     "execution_count": 5,
     "metadata": {},
     "output_type": "execute_result"
    }
   ],
   "source": [
    "# Mediana dos alunos\n",
    "df_boletins.median()"
   ]
  },
  {
   "cell_type": "code",
   "execution_count": 6,
   "metadata": {},
   "outputs": [
    {
     "data": {
      "image/png": "[encoded data removed]",
      "text/plain": [
       "<Figure size 576x396 with 1 Axes>"
      ]
     },
     "metadata": {},
     "output_type": "display_data"
    }
   ],
   "source": [
    "# Apesar de Fulano e Sicrano possuirem as mesmas métricas\n",
    "# de tendência central, seus dados possuem dispersões diferentes\n",
    "\n",
    "# Comparando a dispersão dos dados entre Fulano e Sicrano\n",
    "for aluno in [\"Fulano\", \"Sicrano\"]:\n",
    "    media = df_boletins[aluno].mean()\n",
    "    total_disciplinas = df_boletins.shape[0]\n",
    "    \n",
    "    ax = df_boletins[aluno].plot(style=\"o\", label=aluno)\n",
    "    ax.hlines(y=media, \n",
    "              xmin=0, \n",
    "              xmax=total_disciplinas, \n",
    "              colors=\"red\")\n",
    "\n",
    "    for i in range(total_disciplinas):\n",
    "        ax.vlines(x=i, \n",
    "                  ymin=media, \n",
    "                  ymax=df_boletins[aluno][i],\n",
    "                  colors=\"gray\",\n",
    "                  linestyles=\"dashed\")\n",
    "    \n",
    "    ax.legend()"
   ]
  },
  {
   "cell_type": "code",
   "execution_count": 30,
   "metadata": {},
   "outputs": [
    {
     "data": {
      "text/plain": [
       "Fulano      1.551020\n",
       "Beltrano    4.265306\n",
       "Sicrano     0.469388\n",
       "dtype: float64"
      ]
     },
     "execution_count": 30,
     "metadata": {},
     "output_type": "execute_result"
    }
   ],
   "source": [
    "# Desvio Médio Absoluto dos alunos utilizando Pandas\n",
    "df_boletins.mad()"
   ]
  },
  {
   "cell_type": "code",
   "execution_count": 38,
   "metadata": {},
   "outputs": [],
   "source": [
    "# Criando uma função desvio médio absoluto\n",
    "def desvio_medio_absoluto(conjunto: list) -> float:\n",
    "    \"\"\"Cálcula o desvio médio absoluto de um conjunto de dados\"\"\"\n",
    "    n = len(conjunto)\n",
    "    media = sum(conjunto)/n\n",
    "    \n",
    "    return sum([abs(x - media) for x in conjunto])/n"
   ]
  },
  {
   "cell_type": "code",
   "execution_count": 40,
   "metadata": {},
   "outputs": [
    {
     "name": "stdout",
     "output_type": "stream",
     "text": [
      "Desvio Médio Absoluto de Fulano: 1.5510204081632648\n"
     ]
    }
   ],
   "source": [
    "# Desvio Médio Absoluto de Fulano\n",
    "notas = [8, 10, 4, 8, 6, 10, 8]\n",
    "dma = desvio_medio_absoluto(notas)\n",
    "\n",
    "print(\"Desvio Médio Absoluto de Fulano: {}\".format(dma))"
   ]
  },
  {
   "cell_type": "code",
   "execution_count": null,
   "metadata": {},
   "outputs": [],
   "source": []
  }
 ],
 "metadata": {
  "kernelspec": {
   "display_name": "Python 3",
   "language": "python",
   "name": "python3"
  },
  "language_info": {
   "codemirror_mode": {
    "name": "ipython",
    "version": 3
   },
   "file_extension": ".py",
   "mimetype": "text/x-python",
   "name": "python",
   "nbconvert_exporter": "python",
   "pygments_lexer": "ipython3",
   "version": "3.8.2"
  }
 },
 "nbformat": 4,
 "nbformat_minor": 4
}
