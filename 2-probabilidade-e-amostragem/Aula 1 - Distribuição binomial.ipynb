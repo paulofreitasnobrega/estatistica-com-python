{
 "cells": [
  {
   "cell_type": "markdown",
   "metadata": {},
   "source": [
    "![Alura <](img/logo-alura.svg)\n",
    "<br><br>\n",
    "    \n",
    "# Estatística com Python parte 2: Probabilidade e Amostragem\n",
    "\n",
    "- Nível: Básico \n",
    "- Aluno: Paulo Freitas Nobrega \n",
    "- Professor: Rodrigo Fernando Dias \n",
    "- Link do curso: https://cursos.alura.com.br/course/estatistica-probabilidade-e-amostragem"
   ]
  },
  {
   "cell_type": "markdown",
   "metadata": {},
   "source": [
    "---\n",
    "\n",
    "## Base Teórica\n",
    "Em teoria da probabilidade, uma distribuição de probabilidade é uma medida com massa total igual a 1. \n",
    "\n",
    "### Fatorial\n",
    "O produtório obtido de $n$ por todos os seus antecessores naturais positivos.\n",
    "\n",
    "$n! = n \\cdot (n-1) \\cdot (n-2) \\dotsc 3 \\cdot 2 \\cdot 1$, para $n \\geq 2$\n",
    "\n",
    "> Por convenção $0! = 1$\n",
    "\n",
    "\n",
    "### Arranjo\n",
    "Sequência ordenada de $k$ elementos distintos, escolhidos entre os $n$ existentes. Cada arranjo difere dos demais:\n",
    "- Pela natureza dos elementos, onde $(1,3) ≠ (3,5)$\n",
    "- Pela ordem dos elementos, onde $(1,3) ≠ (3,1)$\n",
    "\n",
    "## $A_{n,k} = \\frac{n!}{(n-k)!}$\n",
    "\n",
    "### Permutação\n",
    "Quantidade de arranjos realizados com a totalidade dos elementos do conjunto.\n",
    "\n",
    "### Combinação\n",
    "Assim como os arranjos, combinações são sequências ordenadas de $k$ elementos distintos, escolhidos entre os $n$ existentes. Contudo, em combinações, considera-se apenas os elementos que compõem a sequência, não importando a ordem dos mesmo. Assim, cada combinação difere das demais apenas:\n",
    "- Pela natureza dos elementos, onde $(1,3) ≠ (3,5)$\n",
    "\n",
    "\n",
    "## $C_{n,k} = \\binom{n}{k} = \\frac{n!}{k! (n-k)!}$\n",
    "\n",
    "---"
   ]
  },
  {
   "cell_type": "markdown",
   "metadata": {},
   "source": [
    "## Aula 01: Distribuição binomial\n",
    "Uma distribuição de probabilidade muito conhecida é a distribuição binomial, que estuda o número de sucessos em $n$ tentativas e as suas respectivas probabilidades. Naturalmente, os valores possíveis são os números inteiros $0, 1, 2, 3, 4, ... , n$.\n",
    "\n",
    "Uma distribuição binomial tem as seguintes características:\n",
    "\n",
    "- Consiste de $n$ ensaios\n",
    "- Cada ensaio só pode resultar em um de dois resultados, identificados como “sucesso” e “fracasso” – com valores 1 e zero, respectivamente.\n",
    "- $P(k)$ é o número de sucessos em $n$ ensaios.\n",
    "- A probabilidade de sucesso (ocorrer o evento de interesse) é $p$ e o valor de $p$ permanece o mesmo em todos os ensaios.\n",
    "- Os ensaios são independentes: o resultado de um ensaio não tem efeito sobre o resultado de outro.\n",
    "<br>\n",
    "\n",
    "# $P(k)=\\binom{n}{k}p^k q^{(n-k)}$\n",
    "\n",
    "onde:\n",
    "- $n$ número de tentativas do experimento aleatório;\n",
    "- $p$ probabilidade de sucesso em uma única tentativa;\n",
    "- $q = 1-p$ probabilidade de fracasso em uma única tentativa;\n",
    "\n",
    "---"
   ]
  },
  {
   "cell_type": "markdown",
   "metadata": {},
   "source": [
    "## Concurso para ciêntista de dados\n",
    "\n",
    "Em um concurso para preencher uma vaga de cientista de dados temos um total de **10 questões** de múltipla escolha com **3 alternativas possíveis** em cada questão. **Cada questão possui o mesmo valor**. Suponha que um candidato resolva se aventurar sem ter estudado absolutamente nada. Ele resolve chutar todas as respostas. Assumindo que a prova **vale 10 pontos e a nota de corte seja 5**. Obtenha a probabilidade:\n",
    "\n",
    "1. Candidato acertar 5 questões; \n",
    "2. Candidato passar para a próxima fase do processo seletivo;"
   ]
  },
  {
   "cell_type": "code",
   "execution_count": 1,
   "metadata": {},
   "outputs": [],
   "source": [
    "# bibliotecas\n",
    "import numpy as np\n",
    "from scipy.stats import binom"
   ]
  },
  {
   "cell_type": "code",
   "execution_count": 2,
   "metadata": {},
   "outputs": [],
   "source": [
    "# dados do problema\n",
    "questoes = 10\n",
    "alternativas = 3\n",
    "\n",
    "# número de tentativas do experimento\n",
    "n = 10\n",
    "\n",
    "# probabilidade de sucesso em uma única tentativa\n",
    "p = 1 / alternativas\n",
    "\n",
    "# probabilidade de fracasso em uma única tentativa\n",
    "q = 1 - p"
   ]
  },
  {
   "cell_type": "markdown",
   "metadata": {},
   "source": [
    "### 1. Probabilidade do candidato acertar 5 questões\n",
    "Neste cenário, o candidato acertará exatamente 5 questões."
   ]
  },
  {
   "cell_type": "code",
   "execution_count": 4,
   "metadata": {},
   "outputs": [
    {
     "data": {
      "text/plain": [
       "0.13656454808718183"
      ]
     },
     "execution_count": 4,
     "metadata": {},
     "output_type": "execute_result"
    }
   ],
   "source": [
    "# Calculando com método pmf da biblioteca scipy.stats\n",
    "binom.pmf(5, n, p)"
   ]
  },
  {
   "cell_type": "markdown",
   "metadata": {},
   "source": [
    "### 2. Probabilidade do candidato passar para a próxima fase do processo seletivo\n",
    "Neste cenário, o candidato poderá acertar 5 ou mais questões, com o limite máximo de n. Então, soma-se a probabilidade de cada ensaio, para obter-se a probabilidade total."
   ]
  },
  {
   "cell_type": "code",
   "execution_count": 6,
   "metadata": {},
   "outputs": [
    {
     "data": {
      "text/plain": [
       "0.2131280800690952"
      ]
     },
     "execution_count": 6,
     "metadata": {},
     "output_type": "execute_result"
    }
   ],
   "source": [
    "# Calculando com o método pmf da biblioteca scipy.stats e list comprehension\n",
    "\n",
    "# probabilidade 5 + 6 + 7 + 8 + 9 + 10 acertos\n",
    "sum([binom.pmf(k, n, p) for k in range(5, 11, 1)])"
   ]
  },
  {
   "cell_type": "code",
   "execution_count": 7,
   "metadata": {},
   "outputs": [
    {
     "data": {
      "text/plain": [
       "0.21312808006909512"
      ]
     },
     "execution_count": 7,
     "metadata": {},
     "output_type": "execute_result"
    }
   ],
   "source": [
    "# Calculando com o método cdf da biblioteca scipy.stats\n",
    "\n",
    "# Neste método retorna-se o somatório das probabilidade\n",
    "# de 0 a k ensaios.\n",
    "k = 4\n",
    "espaco_amostral = p + q\n",
    "espaco_amostral - binom.cdf(k, n, p)"
   ]
  },
  {
   "cell_type": "code",
   "execution_count": 8,
   "metadata": {},
   "outputs": [
    {
     "data": {
      "text/plain": [
       "0.21312808006909517"
      ]
     },
     "execution_count": 8,
     "metadata": {},
     "output_type": "execute_result"
    }
   ],
   "source": [
    "# Calculando com  o método sf da biblioteca scipy.stats\n",
    "\n",
    "# Neste método retorna-se o:\n",
    "# espaço amostral - somatório das probabilidade\n",
    "# de 0 a k ensaios\n",
    "k = 4\n",
    "binom.sf(k, n, p)"
   ]
  },
  {
   "cell_type": "markdown",
   "metadata": {},
   "source": [
    "### Calculando sem auxílio de bibliotecas externas"
   ]
  },
  {
   "cell_type": "code",
   "execution_count": 15,
   "metadata": {},
   "outputs": [
    {
     "data": {
      "text/plain": [
       "0.2131280800690952"
      ]
     },
     "execution_count": 15,
     "metadata": {},
     "output_type": "execute_result"
    }
   ],
   "source": [
    "def fatorial(n: int) -> int:\n",
    "    \"\"\"\n",
    "    Calcula o fatorial de um número\n",
    "    \"\"\"\n",
    "    return 1 if n < 1 else n * fatorial(n-1)\n",
    "\n",
    "\n",
    "def arranjos(n, k: int) -> float:\n",
    "    \"\"\"\n",
    "    Calcula a quantidade de arranjos possíveis,\n",
    "    de um conjunto de tamanho n, tomados k a k\n",
    "    \"\"\"\n",
    "\n",
    "    # quando n for um conjunto de elementos, então\n",
    "    # atribui à n a quantidade de elementos do conjunto\n",
    "    n = len(n) if isinstance(n, list) else n\n",
    "\n",
    "    return fatorial(n) / fatorial(n-k)\n",
    "\n",
    "\n",
    "def combinacoes(n, k: int) -> float:\n",
    "    \"\"\"\n",
    "    Calcula a quantidade de combinações possíveis,\n",
    "    de um conjunto de tamanho n, tomados k a k\n",
    "    \"\"\"\n",
    "\n",
    "    return arranjos(n, k) / fatorial(k)\n",
    "\n",
    "\n",
    "def dist_binomial_pmf(s, n: int, p: float) -> list:\n",
    "    \"\"\"\n",
    "    Determina a probabilidade de observar k sucessos em n\n",
    "    ensaios, em que a probabilidade de sucesso para cada\n",
    "    ensaio seja p\n",
    "    \"\"\"\n",
    "\n",
    "    # n = número de ensaios\n",
    "    # p = probabilidade de sucesso\n",
    "    # q = probabilidade de fracasso\n",
    "    # k = número de sucesso desejado\n",
    "    q = 1 - p\n",
    "\n",
    "    # s é um variável auxiliar\n",
    "    # poderá conter um valor inteiro ou uma lista de inteiros\n",
    "    if not isinstance(s, list):\n",
    "        s = [s]\n",
    "\n",
    "    return [combinacoes(n, k) * (p**k) * (q**(n-k)) for k in s]\n",
    "\n",
    "\n",
    "ensaios = list(range(5, 11, 1))\n",
    "sum(dist_binomial_pmf(ensaios, n, p))"
   ]
  },
  {
   "cell_type": "markdown",
   "metadata": {},
   "source": [
    "Referências:\n",
    "\n",
    "---\n",
    "FERREIRA, Valéria. **Análise Estatística**. p. 57. Rio de Janeiro: SESES, 2015."
   ]
  }
 ],
 "metadata": {
  "kernelspec": {
   "display_name": "Python 3",
   "language": "python",
   "name": "python3"
  },
  "language_info": {
   "codemirror_mode": {
    "name": "ipython",
    "version": 3
   },
   "file_extension": ".py",
   "mimetype": "text/x-python",
   "name": "python",
   "nbconvert_exporter": "python",
   "pygments_lexer": "ipython3",
   "version": "3.8.5"
  }
 },
 "nbformat": 4,
 "nbformat_minor": 4
}
