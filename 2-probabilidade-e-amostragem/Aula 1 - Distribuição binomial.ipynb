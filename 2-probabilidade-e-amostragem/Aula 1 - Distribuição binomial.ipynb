{
 "cells": [
  {
   "cell_type": "markdown",
   "metadata": {},
   "source": [
    "![Alura <](img/logo-alura.svg)\n",
    "<br><br>\n",
    "    \n",
    "# Estatística com Python parte 2: Probabilidade e Amostragem\n",
    "\n",
    "- Nível: Básico \n",
    "- Aluno: Paulo Freitas Nobrega \n",
    "- Professor: Rodrigo Fernando Dias \n",
    "- Link do curso: https://cursos.alura.com.br/course/estatistica-probabilidade-e-amostragem"
   ]
  },
  {
   "cell_type": "markdown",
   "metadata": {},
   "source": [
    "## Base Teórica\n",
    "Uma distribuição de probabilidade muito conhecida é a distribuição binomial, que estuda o número de sucessos em $n$ tentativas\n",
    "\n",
    "#### Fatorial\n",
    "Loren Ipsum\n",
    "\n",
    "#### Arranjo Matemático\n",
    "Loren Ipsum\n",
    "\n",
    "#### Permutação\n",
    "O conceito de permutar e de fatorar estão diretamente relacionados. **Ao calcular uma permutação, estamos calculando todas as possibilidades existentes** para arranjar os $n$ elementos de um determinado conjunto, em $k$ espaços. Sendo assim, em permutação, `a ordem dos elementos influência na quantidade de arranjos`.\n",
    "\n",
    "# $P_{n,k} = \\frac{n!}{(n-k)!}$\n",
    "\n",
    "> Exemplo: Quantas possibilidades existem para arranjar um conjunto de 5 pessoas em 3 cadeiras? $n = 5$ e $k = 3$. Aplicando a equação encontramos o valor $60$ possibilidades\n",
    "\n",
    "#### Combinação\n",
    "# $C^{n}_{k} = \\binom{n}{k} = \\frac{n!}{k! (n-k)!}$\n",
    "\n",
    "#### Número Binomial\n",
    "Número resultante de uma equação de combinação simples (sem repetição)."
   ]
  },
  {
   "cell_type": "markdown",
   "metadata": {},
   "source": [
    "## Aula 01: Distribuição binomial\n",
    "Uma distribuição de probabilidade muito conhecida é a distribuição binomial, que estuda o número de sucessos em $n$ tentativas e as suas respectivas probabilidades. Naturalmente, os valores possíveis são os números inteiros $0, 1, 2, 3, 4, ... , n$.\n",
    "\n",
    "Uma distribuição binomial tem as seguintes características:\n",
    "\n",
    "- Consiste de $n$ ensaios\n",
    "- Cada ensaio só pode resultar em um de dois resultados, identificados como “sucesso” e “fracasso” – com valores 1 e zero, respectivamente.\n",
    "- $P(k)$ é o número de sucessos em $n$ ensaios.\n",
    "- A probabilidade de sucesso (ocorrer o evento de interesse) é $p$ e o valor de $p$ permanece o mesmo em todos os ensaios.\n",
    "- Os ensaios são independentes: o resultado de um ensaio não tem efeito sobre o resultado de outro.\n",
    "<br>\n",
    "\n",
    "# $P(k)=\\binom{n}{k}p^k q^{(n-k)}$\n",
    "\n",
    "onde:\n",
    "- $n$ número de tentativas do experimento aleatório;\n",
    "- $p$ probabilidade de sucesso em uma única tentativa;\n",
    "- $q = 1-p$ probabilidade de fracasso em uma única tentativa;\n",
    "\n",
    "\n",
    "#### Coeficiente Binomial\n",
    "\n",
    "Número de maneiras de obter k sucessos em n tentativas, independentemente da ordem.\n",
    "\n",
    "# $C^{n}_{k} = \\binom{n}{k} = \\frac{n!}{k! (n-k)!}$\n",
    "\n",
    "---\n",
    "FERREIRA, Valéria. **Análise Estatística**. p. 57. Rio de Janeiro: SESES, 2015."
   ]
  },
  {
   "cell_type": "code",
   "execution_count": 1,
   "metadata": {},
   "outputs": [],
   "source": [
    "# Bibliotecas\n",
    "import numpy as np\n",
    "import pandas as pd\n",
    "from scipy.stats import binom"
   ]
  },
  {
   "cell_type": "code",
   "execution_count": 2,
   "metadata": {},
   "outputs": [
    {
     "data": {
      "text/plain": [
       "0.21312808006909517"
      ]
     },
     "execution_count": 2,
     "metadata": {},
     "output_type": "execute_result"
    }
   ],
   "source": [
    "binom.sf(4, 10, (1/3))"
   ]
  },
  {
   "cell_type": "code",
   "execution_count": 4,
   "metadata": {},
   "outputs": [
    {
     "data": {
      "text/plain": [
       "0.0729"
      ]
     },
     "execution_count": 4,
     "metadata": {},
     "output_type": "execute_result"
    }
   ],
   "source": [
    "binom.pmf(2, 5, 0.1)"
   ]
  },
  {
   "cell_type": "code",
   "execution_count": 16,
   "metadata": {},
   "outputs": [
    {
     "data": {
      "text/plain": [
       "0.99144"
      ]
     },
     "execution_count": 16,
     "metadata": {},
     "output_type": "execute_result"
    }
   ],
   "source": [
    "binom.cdf(2, 5, 0.1)"
   ]
  },
  {
   "cell_type": "code",
   "execution_count": 17,
   "metadata": {},
   "outputs": [
    {
     "data": {
      "text/plain": [
       "0.32804999999999995"
      ]
     },
     "execution_count": 17,
     "metadata": {},
     "output_type": "execute_result"
    }
   ],
   "source": [
    "binom.pmf(1, 5, 0.1).sum()"
   ]
  },
  {
   "cell_type": "code",
   "execution_count": 19,
   "metadata": {},
   "outputs": [
    {
     "data": {
      "text/plain": [
       "0.9914399999999999"
      ]
     },
     "execution_count": 19,
     "metadata": {},
     "output_type": "execute_result"
    }
   ],
   "source": [
    "0.32804999999999995 + 0.0729 + 0.59049"
   ]
  },
  {
   "cell_type": "code",
   "execution_count": null,
   "metadata": {},
   "outputs": [],
   "source": []
  }
 ],
 "metadata": {
  "kernelspec": {
   "display_name": "Python 3",
   "language": "python",
   "name": "python3"
  },
  "language_info": {
   "codemirror_mode": {
    "name": "ipython",
    "version": 3
   },
   "file_extension": ".py",
   "mimetype": "text/x-python",
   "name": "python",
   "nbconvert_exporter": "python",
   "pygments_lexer": "ipython3",
   "version": "3.8.2"
  }
 },
 "nbformat": 4,
 "nbformat_minor": 4
}
