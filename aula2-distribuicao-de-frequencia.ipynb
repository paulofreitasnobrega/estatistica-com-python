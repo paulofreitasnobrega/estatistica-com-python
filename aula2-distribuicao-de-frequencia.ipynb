{
 "cells": [
  {
   "cell_type": "markdown",
   "metadata": {},
   "source": [
    "![Alura <](img/logo-alura.svg)\n",
    "<br><br>\n",
    "    \n",
    "## Estatística com Python parte 1: Frequências e Medidas\n",
    "\n",
    "- Nível: Básico \n",
    "- Aluno: Paulo Freitas Nobrega \n",
    "- Professor: Rodrigo Fernando Dias \n",
    "- Link do curso: https://cursos.alura.com.br/course/estatistica-distribuicoes-e-medidas\n",
    "<br><br>\n",
    "\n",
    "##### Dataset: Pesquisa Nacional por Amostra de Domicílios (PNAD) 2015\n",
    "> O sistema de pesquisas domiciliares, implantado progressivamente no Brasil a partir de 1967, com a criação da **Pesquisa Nacional por Amostra de Domicílios - PNAD**, produz informações básicas para o estudo do desenvolvimento socioeconômico do País.\n",
    "\n",
    "<br>\n",
    "\n",
    "### Aula 02: Distribuição de Frequência\n",
    "Quando se estuda uma variável, o maior interesse do pesquisador é conhecer o comportamento\n",
    "dessa variável, analisando a ocorrência de suas possíveis realizações. \n",
    "\n",
    "Dessa forma, distribuição de frequências é uma tabela em que se resumem grandes quantidades de dados, determinando o número de vezes, que cada dado ocorre (frequência absoluta) e a porcentagem com que aparece (frequência relativa).\n",
    "\n",
    "---\n",
    "MORETTIN, BUSSAB. **Estatística básica**. 6. ed. p. 11. São Paulo: Saraiva, 2010.\n",
    "\n",
    "FERREIRA, Valéria. **Estatística básica**. p. 25. São Paulo: SESES, 2015.\n",
    "\n",
    "SICSÚ, DANA. **Estatística aplicada**: Análise exploratória de dados. 1. ed. p. 9. São Paulo: Saraiva, 2012."
   ]
  },
  {
   "cell_type": "markdown",
   "metadata": {},
   "source": [
    "### Fórmulas e conceitos estatísticos para esta aula.\n",
    "\n",
    "$n$ = Número de elementos da amostra\n",
    "\n",
    "$a$ = Amplitude da amostra, onde: $a=max({n}) - min({n})$\n",
    "\n",
    "$k$ = Número de classes de frequências, onde: $k\\cong1+\\frac{10}{3}log_{10}~n$\n",
    "> Há outras fórmulas para encontrar o valor de k. Algumas estão citadas abaixo.\n",
    "\n",
    "$h$ = Amplitude de classe de frequência, onde: $h=\\frac{a}{k}$\n",
    "\n",
    "$f$ = Frequência absoluta ou simplesmente frequência é o número de vezes, que cada dado aparece amostra.\n",
    "\n",
    "$p$ = Frequência Relativa ou Proporção é o quociente da frequência absoluta\n",
    "pelo número total de elementos da amostra, onde: $p=\\frac{f}{n}$\n",
    "> As frequências relativas são, em geral, expressas em porcentagem (%). Você pode entende-la como proporção, probabilidade ou porcentagem de uma variável."
   ]
  },
  {
   "cell_type": "code",
   "execution_count": 1,
   "metadata": {
    "colab": {
     "base_uri": "https://localhost:8080/",
     "height": 258
    },
    "colab_type": "code",
    "id": "rpbDc0IivAIQ",
    "outputId": "f0c9f9ce-9f39-48bb-d241-7ce287a65d92"
   },
   "outputs": [
    {
     "data": {
      "text/html": [
       "<div>\n",
       "<style scoped>\n",
       "    .dataframe tbody tr th:only-of-type {\n",
       "        vertical-align: middle;\n",
       "    }\n",
       "\n",
       "    .dataframe tbody tr th {\n",
       "        vertical-align: top;\n",
       "    }\n",
       "\n",
       "    .dataframe thead th {\n",
       "        text-align: right;\n",
       "    }\n",
       "</style>\n",
       "<table border=\"1\" class=\"dataframe\">\n",
       "  <thead>\n",
       "    <tr style=\"text-align: right;\">\n",
       "      <th></th>\n",
       "      <th>UF</th>\n",
       "      <th>Sexo</th>\n",
       "      <th>Idade</th>\n",
       "      <th>Cor</th>\n",
       "      <th>Anos de Estudo</th>\n",
       "      <th>Renda</th>\n",
       "      <th>Altura</th>\n",
       "    </tr>\n",
       "  </thead>\n",
       "  <tbody>\n",
       "    <tr>\n",
       "      <th>0</th>\n",
       "      <td>11</td>\n",
       "      <td>0</td>\n",
       "      <td>23</td>\n",
       "      <td>8</td>\n",
       "      <td>12</td>\n",
       "      <td>800</td>\n",
       "      <td>1.603808</td>\n",
       "    </tr>\n",
       "    <tr>\n",
       "      <th>1</th>\n",
       "      <td>11</td>\n",
       "      <td>1</td>\n",
       "      <td>23</td>\n",
       "      <td>2</td>\n",
       "      <td>12</td>\n",
       "      <td>1150</td>\n",
       "      <td>1.739790</td>\n",
       "    </tr>\n",
       "    <tr>\n",
       "      <th>2</th>\n",
       "      <td>11</td>\n",
       "      <td>1</td>\n",
       "      <td>35</td>\n",
       "      <td>8</td>\n",
       "      <td>15</td>\n",
       "      <td>880</td>\n",
       "      <td>1.760444</td>\n",
       "    </tr>\n",
       "    <tr>\n",
       "      <th>3</th>\n",
       "      <td>11</td>\n",
       "      <td>0</td>\n",
       "      <td>46</td>\n",
       "      <td>2</td>\n",
       "      <td>6</td>\n",
       "      <td>3500</td>\n",
       "      <td>1.783158</td>\n",
       "    </tr>\n",
       "    <tr>\n",
       "      <th>4</th>\n",
       "      <td>11</td>\n",
       "      <td>1</td>\n",
       "      <td>47</td>\n",
       "      <td>8</td>\n",
       "      <td>9</td>\n",
       "      <td>150</td>\n",
       "      <td>1.690631</td>\n",
       "    </tr>\n",
       "  </tbody>\n",
       "</table>\n",
       "</div>"
      ],
      "text/plain": [
       "   UF  Sexo  Idade  Cor  Anos de Estudo  Renda    Altura\n",
       "0  11     0     23    8              12    800  1.603808\n",
       "1  11     1     23    2              12   1150  1.739790\n",
       "2  11     1     35    8              15    880  1.760444\n",
       "3  11     0     46    2               6   3500  1.783158\n",
       "4  11     1     47    8               9    150  1.690631"
      ]
     },
     "execution_count": 1,
     "metadata": {},
     "output_type": "execute_result"
    }
   ],
   "source": [
    "# Bibliotecas\n",
    "import pandas as pd\n",
    "import numpy as np\n",
    "import seaborn as sns\n",
    "import scipy\n",
    "import matplotlib.pyplot as plt\n",
    "\n",
    "# Aplicando Estilo Matplotlib\n",
    "plt.style.use('seaborn')\n",
    "\n",
    "# Importando Dataset\n",
    "d = pd.read_csv('dados.csv')\n",
    "d.head()"
   ]
  },
  {
   "cell_type": "markdown",
   "metadata": {},
   "source": [
    "### Distribuição de Frequência Qualitativa\n",
    "\n",
    "As variáveis qualitativas podem ser classificadas como qualitativas `nominais` ou `ordinais`. Se existir uma ordenação natural, elas são classificadas como qualitativas ordinais. Caso contrário, elas são classificadas como variáveis qualitativas nominais. Por exemplo, variáveis como gênero (masculino e feminino) e estado civil (solteiro, casado, viúvo, etc.) são classificadas como qualitativas\n",
    "nominais. Agora, variáveis como desempenho de um profissional (péssimo, regular ou bom) e grau de instrução (ensino fundamental, ensino médio, superior) são classificadas como qualitativas ordinais.\n",
    "\n",
    "> Podemos atribuir códigos numéricos às categorias de respostas de algumas variáveis qualitativas. Por exemplo, para a variável gêner, podemos associar o código 1 para o sexo feminino e 2 para o sexo masculino. Mas isto não a torna uma variável quantitativa, ou seja, não podemos, por exemplo, calcular uma média destas respostas, pois não conseguiríamos interpretar o resultado obtido.\n",
    "\n",
    "---\n",
    "FERREIRA, Valéria. **Estatística básica**. p. 14, 15. São Paulo: SESES, 2015."
   ]
  },
  {
   "cell_type": "markdown",
   "metadata": {},
   "source": [
    "##### Criando Distribuição de Frequência através do método value_counts() do pandas\n",
    "\n",
    "`value_counts()` Devolve uma Series contendo valores únicos como seu índice e as frequências como seus valores; a ordem dos contadores é decrescente."
   ]
  },
  {
   "cell_type": "code",
   "execution_count": 2,
   "metadata": {
    "colab": {
     "base_uri": "https://localhost:8080/",
     "height": 111
    },
    "colab_type": "code",
    "id": "5uX-PbK_40nF",
    "outputId": "1ab16c50-5e69-43bc-8b64-bf5eb08e5463"
   },
   "outputs": [
    {
     "data": {
      "text/html": [
       "<div>\n",
       "<style scoped>\n",
       "    .dataframe tbody tr th:only-of-type {\n",
       "        vertical-align: middle;\n",
       "    }\n",
       "\n",
       "    .dataframe tbody tr th {\n",
       "        vertical-align: top;\n",
       "    }\n",
       "\n",
       "    .dataframe thead th {\n",
       "        text-align: right;\n",
       "    }\n",
       "</style>\n",
       "<table border=\"1\" class=\"dataframe\">\n",
       "  <thead>\n",
       "    <tr style=\"text-align: right;\">\n",
       "      <th>Sexo</th>\n",
       "      <th>Frequência</th>\n",
       "      <th>Porcentagem (%)</th>\n",
       "    </tr>\n",
       "  </thead>\n",
       "  <tbody>\n",
       "    <tr>\n",
       "      <th>Masculino</th>\n",
       "      <td>53250</td>\n",
       "      <td>69.299844</td>\n",
       "    </tr>\n",
       "    <tr>\n",
       "      <th>Feminino</th>\n",
       "      <td>23590</td>\n",
       "      <td>30.700156</td>\n",
       "    </tr>\n",
       "  </tbody>\n",
       "</table>\n",
       "</div>"
      ],
      "text/plain": [
       "Sexo       Frequência  Porcentagem (%)\n",
       "Masculino       53250        69.299844\n",
       "Feminino        23590        30.700156"
      ]
     },
     "execution_count": 2,
     "metadata": {},
     "output_type": "execute_result"
    }
   ],
   "source": [
    "# Distribuição de Freq. Qualitativa: Sexo\n",
    "# Dicionário de Genero\n",
    "genero = {\n",
    "    0: 'Masculino',\n",
    "    1: 'Feminino'\n",
    "}\n",
    "\n",
    "#Series frequencias (Absoluta e Relativa)\n",
    "freq_abs = d['Sexo'].value_counts()\n",
    "freq_rel = d['Sexo'].value_counts(normalize=True) * 100\n",
    "\n",
    "# DataFrame frequencias de sexo\n",
    "df_sexo = pd.DataFrame({\n",
    "    'Frequência': freq_abs,\n",
    "    'Porcentagem (%)': freq_rel\n",
    "})\n",
    "\n",
    "# Renomeacao de indices\n",
    "df_sexo.rename(index=genero, inplace=True)\n",
    "\n",
    "# Renomeacao de coluna de indices\n",
    "df_sexo.rename_axis('Sexo', axis='columns', inplace=True)\n",
    "df_sexo.head()"
   ]
  },
  {
   "cell_type": "code",
   "execution_count": 3,
   "metadata": {
    "colab": {
     "base_uri": "https://localhost:8080/",
     "height": 315
    },
    "colab_type": "code",
    "id": "67WAxRsTSouk",
    "outputId": "64341fa9-35ea-4fae-c190-02a9c636e862"
   },
   "outputs": [
    {
     "data": {
      "image/png": "[encoded data removed]",
      "text/plain": [
       "<Figure size 576x396 with 1 Axes>"
      ]
     },
     "metadata": {},
     "output_type": "display_data"
    }
   ],
   "source": [
    "# Plotagem: Frequencia relativa (Sexo)\n",
    "df_sexo.iloc[:,-1].plot(\n",
    "    kind='bar', \n",
    "    title='Frequência Relativa (%) por Sexo no Brasil'\n",
    ");\n",
    "plt.ylabel('População (%)')\n",
    "plt.xlabel('Gênero')\n",
    "plt.show();"
   ]
  },
  {
   "cell_type": "code",
   "execution_count": 4,
   "metadata": {
    "colab": {
     "base_uri": "https://localhost:8080/",
     "height": 204
    },
    "colab_type": "code",
    "id": "aJAkA3JEJ4cj",
    "outputId": "d006aecc-5708-4c9f-b3bb-1c44701a71e1"
   },
   "outputs": [
    {
     "data": {
      "text/html": [
       "<div>\n",
       "<style scoped>\n",
       "    .dataframe tbody tr th:only-of-type {\n",
       "        vertical-align: middle;\n",
       "    }\n",
       "\n",
       "    .dataframe tbody tr th {\n",
       "        vertical-align: top;\n",
       "    }\n",
       "\n",
       "    .dataframe thead th {\n",
       "        text-align: right;\n",
       "    }\n",
       "</style>\n",
       "<table border=\"1\" class=\"dataframe\">\n",
       "  <thead>\n",
       "    <tr style=\"text-align: right;\">\n",
       "      <th>Raça</th>\n",
       "      <th>Frequência</th>\n",
       "      <th>Porcentagem (%)</th>\n",
       "    </tr>\n",
       "  </thead>\n",
       "  <tbody>\n",
       "    <tr>\n",
       "      <th>Parda</th>\n",
       "      <td>35925</td>\n",
       "      <td>46.752993</td>\n",
       "    </tr>\n",
       "    <tr>\n",
       "      <th>Branca</th>\n",
       "      <td>31815</td>\n",
       "      <td>41.404217</td>\n",
       "    </tr>\n",
       "    <tr>\n",
       "      <th>Preta</th>\n",
       "      <td>8391</td>\n",
       "      <td>10.920094</td>\n",
       "    </tr>\n",
       "    <tr>\n",
       "      <th>Indigena</th>\n",
       "      <td>357</td>\n",
       "      <td>0.464602</td>\n",
       "    </tr>\n",
       "    <tr>\n",
       "      <th>Amarela</th>\n",
       "      <td>352</td>\n",
       "      <td>0.458095</td>\n",
       "    </tr>\n",
       "  </tbody>\n",
       "</table>\n",
       "</div>"
      ],
      "text/plain": [
       "Raça      Frequência  Porcentagem (%)\n",
       "Parda          35925        46.752993\n",
       "Branca         31815        41.404217\n",
       "Preta           8391        10.920094\n",
       "Indigena         357         0.464602\n",
       "Amarela          352         0.458095"
      ]
     },
     "execution_count": 4,
     "metadata": {},
     "output_type": "execute_result"
    }
   ],
   "source": [
    "# Distribuição de Freq. Qualitativa: Raça\n",
    "# Dicionário de Raça\n",
    "raca = {\n",
    "    0: 'Indigena',\n",
    "    2: 'Branca',\n",
    "    4: 'Preta',\n",
    "    6: 'Amarela',\n",
    "    8: 'Parda',\n",
    "    9: 'Sem Declaração'\n",
    "}\n",
    "\n",
    "#Series frequencias (Absoluta e Relativa)\n",
    "freq_abs = d['Cor'].value_counts()\n",
    "freq_rel = d['Cor'].value_counts(normalize=True) * 100\n",
    "\n",
    "# DataFrame frequencias de raca\n",
    "df_raca = pd.DataFrame({\n",
    "    'Frequência': freq_abs,\n",
    "    'Porcentagem (%)': freq_rel\n",
    "})\n",
    "\n",
    "# Renomeacao de indices\n",
    "df_raca.rename(index=raca, inplace=True)\n",
    "\n",
    "# Renomeacao de coluna de indices\n",
    "df_raca.rename_axis('Raça', axis='columns', inplace=True)\n",
    "df_raca.head()"
   ]
  },
  {
   "cell_type": "code",
   "execution_count": 5,
   "metadata": {
    "colab": {
     "base_uri": "https://localhost:8080/",
     "height": 308
    },
    "colab_type": "code",
    "id": "4-ZrTWKAQ6vh",
    "outputId": "151eae8c-2122-4599-cc2a-b43c6c7ed9b2"
   },
   "outputs": [
    {
     "data": {
      "image/png": "[encoded data removed]",
      "text/plain": [
       "<Figure size 576x396 with 1 Axes>"
      ]
     },
     "metadata": {},
     "output_type": "display_data"
    }
   ],
   "source": [
    "# Plotagem: Frequencia relativa (Raça)\n",
    "df_raca.iloc[:,-1].plot(\n",
    "    kind='bar', \n",
    "    title='Frequência Relativa (%) por Raça no Brasil'\n",
    ");\n",
    "plt.ylabel('População (%)')\n",
    "plt.xlabel('Raças')\n",
    "plt.show();"
   ]
  },
  {
   "cell_type": "markdown",
   "metadata": {},
   "source": [
    "##### Criando Distribuição de Frequência com cruzamento de features através da função cosstrab()\n",
    "\n",
    "`pd.crosstab()` Calcula uma tabulação cruzada simples de duas (ou mais) `feature` que pode mostrar a frequência com que determinados grupos de dados aparecem. Por padrão, retorna uma tabela de frequência absoluta.\n",
    "\n",
    "> Uma necessidade comum em uma tabela de referência cruzada é incluir subtotais. Podemos adicioná-los usando a palavra-chave `margens` como parâmetro de `crosstab`."
   ]
  },
  {
   "cell_type": "code",
   "execution_count": 6,
   "metadata": {},
   "outputs": [
    {
     "data": {
      "text/html": [
       "<div>\n",
       "<style scoped>\n",
       "    .dataframe tbody tr th:only-of-type {\n",
       "        vertical-align: middle;\n",
       "    }\n",
       "\n",
       "    .dataframe tbody tr th {\n",
       "        vertical-align: top;\n",
       "    }\n",
       "\n",
       "    .dataframe thead th {\n",
       "        text-align: right;\n",
       "    }\n",
       "</style>\n",
       "<table border=\"1\" class=\"dataframe\">\n",
       "  <thead>\n",
       "    <tr style=\"text-align: right;\">\n",
       "      <th>Sexo</th>\n",
       "      <th>Masculino</th>\n",
       "      <th>Feminino</th>\n",
       "      <th>Total</th>\n",
       "    </tr>\n",
       "    <tr>\n",
       "      <th>Anos de Estudo</th>\n",
       "      <th></th>\n",
       "      <th></th>\n",
       "      <th></th>\n",
       "    </tr>\n",
       "  </thead>\n",
       "  <tbody>\n",
       "    <tr>\n",
       "      <th>Sem instrução e menos de 1 ano</th>\n",
       "      <td>4476</td>\n",
       "      <td>1373</td>\n",
       "      <td>5849</td>\n",
       "    </tr>\n",
       "    <tr>\n",
       "      <th>1 ano</th>\n",
       "      <td>1081</td>\n",
       "      <td>307</td>\n",
       "      <td>1388</td>\n",
       "    </tr>\n",
       "    <tr>\n",
       "      <th>2 anos</th>\n",
       "      <td>1637</td>\n",
       "      <td>464</td>\n",
       "      <td>2101</td>\n",
       "    </tr>\n",
       "    <tr>\n",
       "      <th>3 anos</th>\n",
       "      <td>2227</td>\n",
       "      <td>664</td>\n",
       "      <td>2891</td>\n",
       "    </tr>\n",
       "    <tr>\n",
       "      <th>4 anos</th>\n",
       "      <td>5020</td>\n",
       "      <td>1709</td>\n",
       "      <td>6729</td>\n",
       "    </tr>\n",
       "    <tr>\n",
       "      <th>5 anos</th>\n",
       "      <td>3247</td>\n",
       "      <td>1252</td>\n",
       "      <td>4499</td>\n",
       "    </tr>\n",
       "    <tr>\n",
       "      <th>6 anos</th>\n",
       "      <td>1790</td>\n",
       "      <td>655</td>\n",
       "      <td>2445</td>\n",
       "    </tr>\n",
       "    <tr>\n",
       "      <th>7 anos</th>\n",
       "      <td>1942</td>\n",
       "      <td>747</td>\n",
       "      <td>2689</td>\n",
       "    </tr>\n",
       "    <tr>\n",
       "      <th>8 anos</th>\n",
       "      <td>5700</td>\n",
       "      <td>2280</td>\n",
       "      <td>7980</td>\n",
       "    </tr>\n",
       "    <tr>\n",
       "      <th>9 anos</th>\n",
       "      <td>1287</td>\n",
       "      <td>553</td>\n",
       "      <td>1840</td>\n",
       "    </tr>\n",
       "    <tr>\n",
       "      <th>10 anos</th>\n",
       "      <td>1499</td>\n",
       "      <td>619</td>\n",
       "      <td>2118</td>\n",
       "    </tr>\n",
       "    <tr>\n",
       "      <th>11 anos</th>\n",
       "      <td>13933</td>\n",
       "      <td>6915</td>\n",
       "      <td>20848</td>\n",
       "    </tr>\n",
       "    <tr>\n",
       "      <th>12 anos</th>\n",
       "      <td>1173</td>\n",
       "      <td>663</td>\n",
       "      <td>1836</td>\n",
       "    </tr>\n",
       "    <tr>\n",
       "      <th>13 anos</th>\n",
       "      <td>827</td>\n",
       "      <td>426</td>\n",
       "      <td>1253</td>\n",
       "    </tr>\n",
       "    <tr>\n",
       "      <th>14 anos</th>\n",
       "      <td>819</td>\n",
       "      <td>569</td>\n",
       "      <td>1388</td>\n",
       "    </tr>\n",
       "    <tr>\n",
       "      <th>15 anos ou mais</th>\n",
       "      <td>6487</td>\n",
       "      <td>4308</td>\n",
       "      <td>10795</td>\n",
       "    </tr>\n",
       "    <tr>\n",
       "      <th>Não determinados</th>\n",
       "      <td>105</td>\n",
       "      <td>86</td>\n",
       "      <td>191</td>\n",
       "    </tr>\n",
       "    <tr>\n",
       "      <th>Total</th>\n",
       "      <td>53250</td>\n",
       "      <td>23590</td>\n",
       "      <td>76840</td>\n",
       "    </tr>\n",
       "  </tbody>\n",
       "</table>\n",
       "</div>"
      ],
      "text/plain": [
       "Sexo                            Masculino  Feminino  Total\n",
       "Anos de Estudo                                            \n",
       "Sem instrução e menos de 1 ano       4476      1373   5849\n",
       "1 ano                                1081       307   1388\n",
       "2 anos                               1637       464   2101\n",
       "3 anos                               2227       664   2891\n",
       "4 anos                               5020      1709   6729\n",
       "5 anos                               3247      1252   4499\n",
       "6 anos                               1790       655   2445\n",
       "7 anos                               1942       747   2689\n",
       "8 anos                               5700      2280   7980\n",
       "9 anos                               1287       553   1840\n",
       "10 anos                              1499       619   2118\n",
       "11 anos                             13933      6915  20848\n",
       "12 anos                              1173       663   1836\n",
       "13 anos                               827       426   1253\n",
       "14 anos                               819       569   1388\n",
       "15 anos ou mais                      6487      4308  10795\n",
       "Não determinados                      105        86    191\n",
       "Total                               53250     23590  76840"
      ]
     },
     "execution_count": 6,
     "metadata": {},
     "output_type": "execute_result"
    }
   ],
   "source": [
    "# Distribuição de Freq. Qualitativa Anos de Estudo - Utilizando a funcao crosstab\n",
    "# Dicionario de Anos de Estudos\n",
    "estudos = {\n",
    "    1: 'Sem instrução e menos de 1 ano',\n",
    "    2: '1 ano',\n",
    "    3: '2 anos',\n",
    "    4: '3 anos',\n",
    "    5: '4 anos',\n",
    "    6: '5 anos',\n",
    "    7: '6 anos',\n",
    "    8: '7 anos',\n",
    "    9: '8 anos',\n",
    "    10: '9 anos',\n",
    "    11: '10 anos',\n",
    "    12: '11 anos',\n",
    "    13: '12 anos',\n",
    "    14: '13 anos',\n",
    "    15: '14 anos',\n",
    "    16: '15 anos ou mais',\n",
    "    17: 'Não determinados'\n",
    "}\n",
    "\n",
    "# Distribuicao de frequencia absoluta\n",
    "# Features: Anos de Estudo e Sexo\n",
    "freq_abs = pd.crosstab(d['Anos de Estudo'],\n",
    "                       d['Sexo'],\n",
    "                       margins=True,\n",
    "                       margins_name=\"Total\")\n",
    "\n",
    "# Incluindo rotulos de linhas e colunas\n",
    "freq_abs.rename(index=estudos, inplace=True)\n",
    "freq_abs.rename(columns=genero, inplace=True)\n",
    "freq_abs.head(20)"
   ]
  },
  {
   "cell_type": "code",
   "execution_count": 7,
   "metadata": {},
   "outputs": [
    {
     "name": "stdout",
     "output_type": "stream",
     "text": [
      "A renda média entre homem/mulher baseada nos anos de estudo\n"
     ]
    },
    {
     "data": {
      "text/html": [
       "<div>\n",
       "<style scoped>\n",
       "    .dataframe tbody tr th:only-of-type {\n",
       "        vertical-align: middle;\n",
       "    }\n",
       "\n",
       "    .dataframe tbody tr th {\n",
       "        vertical-align: top;\n",
       "    }\n",
       "\n",
       "    .dataframe thead th {\n",
       "        text-align: right;\n",
       "    }\n",
       "</style>\n",
       "<table border=\"1\" class=\"dataframe\">\n",
       "  <thead>\n",
       "    <tr style=\"text-align: right;\">\n",
       "      <th>Sexo</th>\n",
       "      <th>Masculino</th>\n",
       "      <th>Feminino</th>\n",
       "    </tr>\n",
       "    <tr>\n",
       "      <th>Anos de Estudo</th>\n",
       "      <th></th>\n",
       "      <th></th>\n",
       "    </tr>\n",
       "  </thead>\n",
       "  <tbody>\n",
       "    <tr>\n",
       "      <th>Sem instrução e menos de 1 ano</th>\n",
       "      <td>799.494638</td>\n",
       "      <td>516.201748</td>\n",
       "    </tr>\n",
       "    <tr>\n",
       "      <th>1 ano</th>\n",
       "      <td>895.629047</td>\n",
       "      <td>492.771987</td>\n",
       "    </tr>\n",
       "    <tr>\n",
       "      <th>2 anos</th>\n",
       "      <td>931.178986</td>\n",
       "      <td>529.911638</td>\n",
       "    </tr>\n",
       "    <tr>\n",
       "      <th>3 anos</th>\n",
       "      <td>1109.203862</td>\n",
       "      <td>546.853916</td>\n",
       "    </tr>\n",
       "    <tr>\n",
       "      <th>4 anos</th>\n",
       "      <td>1302.329283</td>\n",
       "      <td>704.279111</td>\n",
       "    </tr>\n",
       "    <tr>\n",
       "      <th>5 anos</th>\n",
       "      <td>1338.653218</td>\n",
       "      <td>781.389776</td>\n",
       "    </tr>\n",
       "    <tr>\n",
       "      <th>6 anos</th>\n",
       "      <td>1448.875419</td>\n",
       "      <td>833.732824</td>\n",
       "    </tr>\n",
       "    <tr>\n",
       "      <th>7 anos</th>\n",
       "      <td>1465.497940</td>\n",
       "      <td>830.751004</td>\n",
       "    </tr>\n",
       "    <tr>\n",
       "      <th>8 anos</th>\n",
       "      <td>1639.396667</td>\n",
       "      <td>933.615351</td>\n",
       "    </tr>\n",
       "    <tr>\n",
       "      <th>9 anos</th>\n",
       "      <td>1508.038850</td>\n",
       "      <td>868.021700</td>\n",
       "    </tr>\n",
       "    <tr>\n",
       "      <th>10 anos</th>\n",
       "      <td>1731.270847</td>\n",
       "      <td>925.919225</td>\n",
       "    </tr>\n",
       "    <tr>\n",
       "      <th>11 anos</th>\n",
       "      <td>2117.060504</td>\n",
       "      <td>1286.790889</td>\n",
       "    </tr>\n",
       "    <tr>\n",
       "      <th>12 anos</th>\n",
       "      <td>2470.330776</td>\n",
       "      <td>1682.313725</td>\n",
       "    </tr>\n",
       "    <tr>\n",
       "      <th>13 anos</th>\n",
       "      <td>3195.099154</td>\n",
       "      <td>1911.730047</td>\n",
       "    </tr>\n",
       "    <tr>\n",
       "      <th>14 anos</th>\n",
       "      <td>3706.620269</td>\n",
       "      <td>2226.460457</td>\n",
       "    </tr>\n",
       "    <tr>\n",
       "      <th>15 anos ou mais</th>\n",
       "      <td>6134.279790</td>\n",
       "      <td>3899.513231</td>\n",
       "    </tr>\n",
       "    <tr>\n",
       "      <th>Não determinados</th>\n",
       "      <td>1295.761905</td>\n",
       "      <td>798.174419</td>\n",
       "    </tr>\n",
       "  </tbody>\n",
       "</table>\n",
       "</div>"
      ],
      "text/plain": [
       "Sexo                              Masculino     Feminino\n",
       "Anos de Estudo                                          \n",
       "Sem instrução e menos de 1 ano   799.494638   516.201748\n",
       "1 ano                            895.629047   492.771987\n",
       "2 anos                           931.178986   529.911638\n",
       "3 anos                          1109.203862   546.853916\n",
       "4 anos                          1302.329283   704.279111\n",
       "5 anos                          1338.653218   781.389776\n",
       "6 anos                          1448.875419   833.732824\n",
       "7 anos                          1465.497940   830.751004\n",
       "8 anos                          1639.396667   933.615351\n",
       "9 anos                          1508.038850   868.021700\n",
       "10 anos                         1731.270847   925.919225\n",
       "11 anos                         2117.060504  1286.790889\n",
       "12 anos                         2470.330776  1682.313725\n",
       "13 anos                         3195.099154  1911.730047\n",
       "14 anos                         3706.620269  2226.460457\n",
       "15 anos ou mais                 6134.279790  3899.513231\n",
       "Não determinados                1295.761905   798.174419"
      ]
     },
     "execution_count": 7,
     "metadata": {},
     "output_type": "execute_result"
    }
   ],
   "source": [
    "# Crosstab com funções agregadoras\n",
    "# Distribuicao de anos de estudo (Homem/Mulher) agregando a media de renda\n",
    "freq_abs = pd.crosstab(d['Anos de Estudo'],\n",
    "                      d['Sexo'],\n",
    "                      aggfunc='mean',\n",
    "                      values=d['Renda'])\n",
    "\n",
    "# Incluindo rotulos de linhas e colunas\n",
    "freq_abs.rename(index=estudos, inplace=True)\n",
    "freq_abs.rename(columns=genero, inplace=True)\n",
    "\n",
    "print('A renda média entre homem/mulher baseada nos anos de estudo')\n",
    "freq_abs.head(20)"
   ]
  },
  {
   "cell_type": "code",
   "execution_count": 8,
   "metadata": {},
   "outputs": [
    {
     "data": {
      "image/png": "[encoded data removed]",
      "text/plain": [
       "<Figure size 576x396 with 1 Axes>"
      ]
     },
     "metadata": {},
     "output_type": "display_data"
    }
   ],
   "source": [
    "# Plotagem: Relacao anos de estudo x média de renda (homem/mulher)\n",
    "freq_abs.iloc[1:-1].plot(\n",
    "    kind='bar',    \n",
    "    title='Média de renda em relação aos anos de estudo (homem/mulher)'\n",
    ")\n",
    "plt.ylabel('Salário R$')\n",
    "plt.show()"
   ]
  },
  {
   "cell_type": "markdown",
   "metadata": {},
   "source": [
    "### Distribuição de Frequência Quantitativa\n",
    "\n",
    "Variáveis quantitativas podem ser classificadas como quantitativas `discretas` ou `contínuas`. As variáveis quantitativas discretas são resultantes de uma operação de contagem, assumindo respostas cujos números são inteiros. Já as variáveis quantitativas contínuas são resultantes de mensurações, assumindo valores que pertencem a um intervalo de números reais, ou seja, números decimais. Por exemplo, número de faltas ao trabalho por motivo de saúde (0, 1, 2,...) e número de peças defeituosas em um lote (0, 1, 2, 3,...) são classificadas como quantitativas discretas, enquanto que peso,\n",
    "altura, renda familiar (salários mínimos) são classificadas como quantitativas contínuas.\n",
    "\n",
    "---\n",
    "FERREIRA, Valéria. **Estatística básica**. p. 14, 15. São Paulo: SESES, 2015."
   ]
  },
  {
   "cell_type": "code",
   "execution_count": 9,
   "metadata": {},
   "outputs": [
    {
     "data": {
      "text/html": [
       "<div>\n",
       "<style scoped>\n",
       "    .dataframe tbody tr th:only-of-type {\n",
       "        vertical-align: middle;\n",
       "    }\n",
       "\n",
       "    .dataframe tbody tr th {\n",
       "        vertical-align: top;\n",
       "    }\n",
       "\n",
       "    .dataframe thead th {\n",
       "        text-align: right;\n",
       "    }\n",
       "</style>\n",
       "<table border=\"1\" class=\"dataframe\">\n",
       "  <thead>\n",
       "    <tr style=\"text-align: right;\">\n",
       "      <th>Classes Sociais</th>\n",
       "      <th>Frequência</th>\n",
       "      <th>Porcentagem (%)</th>\n",
       "    </tr>\n",
       "  </thead>\n",
       "  <tbody>\n",
       "    <tr>\n",
       "      <th>A</th>\n",
       "      <td>608</td>\n",
       "      <td>0.791255</td>\n",
       "    </tr>\n",
       "    <tr>\n",
       "      <th>B</th>\n",
       "      <td>2178</td>\n",
       "      <td>2.834461</td>\n",
       "    </tr>\n",
       "    <tr>\n",
       "      <th>C</th>\n",
       "      <td>7599</td>\n",
       "      <td>9.889381</td>\n",
       "    </tr>\n",
       "    <tr>\n",
       "      <th>D</th>\n",
       "      <td>16700</td>\n",
       "      <td>21.733472</td>\n",
       "    </tr>\n",
       "    <tr>\n",
       "      <th>E</th>\n",
       "      <td>49755</td>\n",
       "      <td>64.751432</td>\n",
       "    </tr>\n",
       "  </tbody>\n",
       "</table>\n",
       "</div>"
      ],
      "text/plain": [
       "Classes Sociais  Frequência  Porcentagem (%)\n",
       "A                       608         0.791255\n",
       "B                      2178         2.834461\n",
       "C                      7599         9.889381\n",
       "D                     16700        21.733472\n",
       "E                     49755        64.751432"
      ]
     },
     "execution_count": 9,
     "metadata": {},
     "output_type": "execute_result"
    }
   ],
   "source": [
    "# Distribuição de Freq. Quantitativa com classes de renda\n",
    "# Lista de limites de renda\n",
    "limites = [\n",
    "    d['Renda'].min(),\n",
    "    1576,\n",
    "    3152,\n",
    "    7880,\n",
    "    15760,\n",
    "    d['Renda'].max()\n",
    "]\n",
    "\n",
    "# Lista de rótulos para os limites\n",
    "rotulos = ['E', 'D', 'C', 'B', 'A']\n",
    "\n",
    "# Series (indice dataset x rotulo)\n",
    "classes = pd.cut(x=d['Renda'],\n",
    "       bins=limites,\n",
    "       labels=rotulos,\n",
    "       include_lowest=True)\n",
    "\n",
    "#Series frequencias (Absoluta e Relativa)\n",
    "freq_abs = classes.value_counts()\n",
    "freq_rel = classes.value_counts(normalize=True) * 100\n",
    "\n",
    "# DataFrame frequencias de renda\n",
    "df_renda = pd.DataFrame({\n",
    "    'Frequência': freq_abs,\n",
    "    'Porcentagem (%)': freq_rel\n",
    "})\n",
    "\n",
    "# Renomeacao de coluna de indices e ordenacao\n",
    "df_renda.rename_axis('Classes Sociais', axis='columns', inplace=True)\n",
    "df_renda.sort_index(ascending=False, inplace=True)\n",
    "df_renda.head()"
   ]
  },
  {
   "cell_type": "code",
   "execution_count": 10,
   "metadata": {},
   "outputs": [
    {
     "data": {
      "image/png": "[encoded data removed]",
      "text/plain": [
       "<Figure size 576x396 with 1 Axes>"
      ]
     },
     "metadata": {},
     "output_type": "display_data"
    }
   ],
   "source": [
    "# Plotagem: Frequencia relativa (Classe Social)\n",
    "df_renda.iloc[:,-1].plot(\n",
    "    kind='barh', \n",
    "    title='Frequência Relativa (%) por Classe social no Brasil'\n",
    ")\n",
    "plt.xlabel('População (%)')\n",
    "plt.ylabel('Classes sociais')\n",
    "\n",
    "plt.show();"
   ]
  },
  {
   "cell_type": "markdown",
   "metadata": {},
   "source": [
    "### Distribuição de Frequência Quantitativa com Classes de Amplitude Fixa\n",
    "\n",
    "Podemos usar o bom senso e escolher arbitrariamente quantas classes e qual a amplitude\n",
    "que estas classes devem ter. Contudo, não há uma regra única para definir-se o número de classes de uma distribuição de frequência. Pois, se este número for muito pequeno, perde-se informação, podendo camuflar variações interessantes na distribuição. Por outro lado, um grande número de classes não contribui com o objetivo de ter uma melhor visualização da distribuição de valores. Em geral, recomenda-se tomar de **5 a 25 classes** de frequência. \n",
    "\n",
    "Há algumas regras sugeridas para encontrar um número recomendado de classes. Onde, o número de classes será o inteiro próximo de k. \n",
    "\n",
    "Seguem algumas dessas regras: <br><br>\n",
    "\n",
    "|Raiz Quadrada de n | Regra de Sturges                 | Regra de Rice          |\n",
    "|:----------------: | :------------------------------: | :---------------------:|\n",
    "|$k\\cong\\sqrt{n}$   | $k\\cong1+\\frac{10}{3}log_{10}~n$ | $k\\cong2n^\\frac {1}{3}$|\n",
    "\n",
    "<br>\n",
    "\n",
    "---\n",
    "FERREIRA, Valéria. **Estatística básica**. p. 30. São Paulo: SESES, 2015.\n",
    "\n",
    "SICSÚ, DANA. **Estatística aplicada**: Análise exploratória de dados. 1. ed. p. 17. São Paulo: Saraiva, 2012."
   ]
  },
  {
   "cell_type": "code",
   "execution_count": 11,
   "metadata": {},
   "outputs": [],
   "source": [
    "# Simulando o crescimento diretamente proporcional de número \n",
    "# de classes (k) pelo tamanho da amostra (n)\n",
    "\n",
    "# Funcoes geradoras de número de classes (k)\n",
    "def sqrt(n: int) -> int:\n",
    "    \"\"\"Regra da Raiz Quadara.\"\"\"\n",
    "    k = n**(1/2)\n",
    "    return int(round(k, 0))\n",
    "\n",
    "\n",
    "def sturges(n: int) -> int:\n",
    "    \"\"\"Regra de Sturges\"\"\"\n",
    "    k = 1 + (10/3) * np.log10(n)\n",
    "    return int(round(k, 0))\n",
    "\n",
    "\n",
    "def rice(n: int) -> int:\n",
    "    \"\"\"Regra de Rice\"\"\"\n",
    "    k = 2*n**(1/3)\n",
    "    return int(round(k, 0))"
   ]
  },
  {
   "cell_type": "code",
   "execution_count": 12,
   "metadata": {},
   "outputs": [
    {
     "data": {
      "text/html": [
       "<div>\n",
       "<style scoped>\n",
       "    .dataframe tbody tr th:only-of-type {\n",
       "        vertical-align: middle;\n",
       "    }\n",
       "\n",
       "    .dataframe tbody tr th {\n",
       "        vertical-align: top;\n",
       "    }\n",
       "\n",
       "    .dataframe thead th {\n",
       "        text-align: right;\n",
       "    }\n",
       "</style>\n",
       "<table border=\"1\" class=\"dataframe\">\n",
       "  <thead>\n",
       "    <tr style=\"text-align: right;\">\n",
       "      <th></th>\n",
       "      <th>Regra de Sturges</th>\n",
       "      <th>Regra de Rice</th>\n",
       "      <th>Regra da Raiz Quadrada</th>\n",
       "    </tr>\n",
       "    <tr>\n",
       "      <th>Nº de elementos na Amostras</th>\n",
       "      <th></th>\n",
       "      <th></th>\n",
       "      <th></th>\n",
       "    </tr>\n",
       "  </thead>\n",
       "  <tbody>\n",
       "    <tr>\n",
       "      <th>1</th>\n",
       "      <td>1</td>\n",
       "      <td>2</td>\n",
       "      <td>1</td>\n",
       "    </tr>\n",
       "    <tr>\n",
       "      <th>10</th>\n",
       "      <td>4</td>\n",
       "      <td>4</td>\n",
       "      <td>3</td>\n",
       "    </tr>\n",
       "    <tr>\n",
       "      <th>100</th>\n",
       "      <td>8</td>\n",
       "      <td>9</td>\n",
       "      <td>10</td>\n",
       "    </tr>\n",
       "    <tr>\n",
       "      <th>1000</th>\n",
       "      <td>11</td>\n",
       "      <td>20</td>\n",
       "      <td>32</td>\n",
       "    </tr>\n",
       "    <tr>\n",
       "      <th>10000</th>\n",
       "      <td>14</td>\n",
       "      <td>43</td>\n",
       "      <td>100</td>\n",
       "    </tr>\n",
       "  </tbody>\n",
       "</table>\n",
       "</div>"
      ],
      "text/plain": [
       "                             Regra de Sturges  Regra de Rice  \\\n",
       "Nº de elementos na Amostras                                    \n",
       "1                                           1              2   \n",
       "10                                          4              4   \n",
       "100                                         8              9   \n",
       "1000                                       11             20   \n",
       "10000                                      14             43   \n",
       "\n",
       "                             Regra da Raiz Quadrada  \n",
       "Nº de elementos na Amostras                          \n",
       "1                                                 1  \n",
       "10                                                3  \n",
       "100                                              10  \n",
       "1000                                             32  \n",
       "10000                                           100  "
      ]
     },
     "execution_count": 12,
     "metadata": {},
     "output_type": "execute_result"
    }
   ],
   "source": [
    "# Gerando serie de amostra: 1, 10, 100, 1000 e 10000\n",
    "# Aplicando os calculos de numero de classes (k)\n",
    "s = lambda x, y, z: [[int(i),\n",
    "                      sturges(i),\n",
    "                      rice(i),\n",
    "                      sqrt(i)] for i in np.geomspace(x,y,z)]\n",
    "\n",
    "# DataFrame numero de classes\n",
    "df_classes = pd.DataFrame(s(1, 10000, 5))\n",
    "\n",
    "# Renomeacao de colunas\n",
    "df_classes.columns = [\n",
    "    'Nº de elementos na Amostras',\n",
    "    'Regra de Sturges', \n",
    "    'Regra de Rice', \n",
    "    'Regra da Raiz Quadrada'\n",
    "]\n",
    "\n",
    "# Renomeacao de coluna de indices\n",
    "df_classes.set_index('Nº de elementos na Amostras', inplace=True)\n",
    "df_classes.head()"
   ]
  },
  {
   "cell_type": "code",
   "execution_count": 13,
   "metadata": {},
   "outputs": [
    {
     "data": {
      "image/png": "[encoded data removed]",
      "text/plain": [
       "<Figure size 576x396 with 1 Axes>"
      ]
     },
     "metadata": {},
     "output_type": "display_data"
    }
   ],
   "source": [
    "# Plotagem: Crescimento de Número de classes\n",
    "df_classes.plot(\n",
    "    title = 'Número de classes (k) pelo número de elementos da amostra (n)'\n",
    ")\n",
    "plt.xlabel('Número de elementos da Amostra (n)')\n",
    "plt.ylabel('Número de classes sugeridas (k)')\n",
    "plt.show();"
   ]
  },
  {
   "cell_type": "markdown",
   "metadata": {},
   "source": [
    "### Distribuição de Frequência Quantitativa de Renda Utilizando a Regra de Sturges para o Cálculo de K\n",
    "\n",
    "A regra Sturges é um método empírico amplamente utilizado em estatística descritiva para determinar o número de classes que devem existir em um histograma de frequência, a fim de classificar um conjunto de dados representando uma amostra ou população.\n",
    "\n",
    "A fórmula de Sruges: \n",
    "\n",
    "$k\\cong1+\\frac{10}{3}log_{10}~n$\n",
    "\n",
    "A fórmula para amplitude das classes, isto é, a largura de cada barra representada no histograma de frequência é dada por:\n",
    "\n",
    "$h=\\frac{n_{max} - n_{min}}{k}$"
   ]
  },
  {
   "cell_type": "code",
   "execution_count": 14,
   "metadata": {},
   "outputs": [
    {
     "data": {
      "text/html": [
       "<div>\n",
       "<style scoped>\n",
       "    .dataframe tbody tr th:only-of-type {\n",
       "        vertical-align: middle;\n",
       "    }\n",
       "\n",
       "    .dataframe tbody tr th {\n",
       "        vertical-align: top;\n",
       "    }\n",
       "\n",
       "    .dataframe thead th {\n",
       "        text-align: right;\n",
       "    }\n",
       "</style>\n",
       "<table border=\"1\" class=\"dataframe\">\n",
       "  <thead>\n",
       "    <tr style=\"text-align: right;\">\n",
       "      <th></th>\n",
       "      <th>Frequência</th>\n",
       "      <th>Porcentagem (%)</th>\n",
       "    </tr>\n",
       "  </thead>\n",
       "  <tbody>\n",
       "    <tr>\n",
       "      <th>(-200.001, 11764.706]</th>\n",
       "      <td>75594</td>\n",
       "      <td>98.378449</td>\n",
       "    </tr>\n",
       "    <tr>\n",
       "      <th>(11764.706, 23529.412]</th>\n",
       "      <td>1022</td>\n",
       "      <td>1.330036</td>\n",
       "    </tr>\n",
       "    <tr>\n",
       "      <th>(23529.412, 35294.118]</th>\n",
       "      <td>169</td>\n",
       "      <td>0.219938</td>\n",
       "    </tr>\n",
       "    <tr>\n",
       "      <th>(35294.118, 47058.824]</th>\n",
       "      <td>19</td>\n",
       "      <td>0.024727</td>\n",
       "    </tr>\n",
       "    <tr>\n",
       "      <th>(47058.824, 58823.529]</th>\n",
       "      <td>16</td>\n",
       "      <td>0.020822</td>\n",
       "    </tr>\n",
       "    <tr>\n",
       "      <th>(58823.529, 70588.235]</th>\n",
       "      <td>5</td>\n",
       "      <td>0.006507</td>\n",
       "    </tr>\n",
       "    <tr>\n",
       "      <th>(70588.235, 82352.941]</th>\n",
       "      <td>4</td>\n",
       "      <td>0.005206</td>\n",
       "    </tr>\n",
       "    <tr>\n",
       "      <th>(82352.941, 94117.647]</th>\n",
       "      <td>1</td>\n",
       "      <td>0.001301</td>\n",
       "    </tr>\n",
       "    <tr>\n",
       "      <th>(94117.647, 105882.353]</th>\n",
       "      <td>6</td>\n",
       "      <td>0.007808</td>\n",
       "    </tr>\n",
       "    <tr>\n",
       "      <th>(105882.353, 117647.059]</th>\n",
       "      <td>0</td>\n",
       "      <td>0.000000</td>\n",
       "    </tr>\n",
       "    <tr>\n",
       "      <th>(117647.059, 129411.765]</th>\n",
       "      <td>1</td>\n",
       "      <td>0.001301</td>\n",
       "    </tr>\n",
       "    <tr>\n",
       "      <th>(129411.765, 141176.471]</th>\n",
       "      <td>0</td>\n",
       "      <td>0.000000</td>\n",
       "    </tr>\n",
       "    <tr>\n",
       "      <th>(141176.471, 152941.176]</th>\n",
       "      <td>0</td>\n",
       "      <td>0.000000</td>\n",
       "    </tr>\n",
       "    <tr>\n",
       "      <th>(152941.176, 164705.882]</th>\n",
       "      <td>0</td>\n",
       "      <td>0.000000</td>\n",
       "    </tr>\n",
       "    <tr>\n",
       "      <th>(164705.882, 176470.588]</th>\n",
       "      <td>0</td>\n",
       "      <td>0.000000</td>\n",
       "    </tr>\n",
       "    <tr>\n",
       "      <th>(176470.588, 188235.294]</th>\n",
       "      <td>0</td>\n",
       "      <td>0.000000</td>\n",
       "    </tr>\n",
       "    <tr>\n",
       "      <th>(188235.294, 200000.0]</th>\n",
       "      <td>3</td>\n",
       "      <td>0.003904</td>\n",
       "    </tr>\n",
       "  </tbody>\n",
       "</table>\n",
       "</div>"
      ],
      "text/plain": [
       "                          Frequência  Porcentagem (%)\n",
       "(-200.001, 11764.706]          75594        98.378449\n",
       "(11764.706, 23529.412]          1022         1.330036\n",
       "(23529.412, 35294.118]           169         0.219938\n",
       "(35294.118, 47058.824]            19         0.024727\n",
       "(47058.824, 58823.529]            16         0.020822\n",
       "(58823.529, 70588.235]             5         0.006507\n",
       "(70588.235, 82352.941]             4         0.005206\n",
       "(82352.941, 94117.647]             1         0.001301\n",
       "(94117.647, 105882.353]            6         0.007808\n",
       "(105882.353, 117647.059]           0         0.000000\n",
       "(117647.059, 129411.765]           1         0.001301\n",
       "(129411.765, 141176.471]           0         0.000000\n",
       "(141176.471, 152941.176]           0         0.000000\n",
       "(152941.176, 164705.882]           0         0.000000\n",
       "(164705.882, 176470.588]           0         0.000000\n",
       "(176470.588, 188235.294]           0         0.000000\n",
       "(188235.294, 200000.0]             3         0.003904"
      ]
     },
     "execution_count": 14,
     "metadata": {},
     "output_type": "execute_result"
    }
   ],
   "source": [
    "# Calculando k\n",
    "k = sturges(d['Renda'].shape[0])\n",
    "\n",
    "# Gerando serie classes com amplitude fixa\n",
    "classes = pd.cut(x=d['Renda'],\n",
    "                bins=k,\n",
    "                include_lowest=True)\n",
    "\n",
    "# Serie frequencias (Absoluta e Relativa)\n",
    "freq_abs = classes.value_counts(sort=False)\n",
    "freq_rel = classes.value_counts(normalize=True, sort=False) * 100\n",
    "\n",
    "# DataFrame frequencias de renda com classes de amplitude fixa\n",
    "df_renda2 = pd.DataFrame({\n",
    "    'Frequência': freq_abs,\n",
    "    'Porcentagem (%)': freq_rel\n",
    "})\n",
    "df_renda2.head(17)"
   ]
  },
  {
   "cell_type": "markdown",
   "metadata": {},
   "source": [
    "### Histograma\n",
    "\n",
    "Um histograma é semelhante ao diagrama de barras, porém refere-se a uma distribuição de frequências construída com intervalos de classes. Por isso, apresenta uma diferença: não há espaços entre as barras. Os intervalos de classes são colocados no eixo horizontal enquanto as frequências são colocadas no eixo vertical. As frequências podem ser absolutas ou relativas. \n",
    "> Utilizamos a frequência ou a frequência relativa para construir o histograma, desde que\n",
    "os intervalos de classes tenham mesma amplitude. Caso contrário, temos que encontrar\n",
    "a densidade de frequência, que é obtida pelo quociente da frequência absoluta pela\n",
    "amplitude do intervalo de classe.\n",
    "\n",
    "---\n",
    "FERREIRA, Valéria. **Estatística básica**. p. 38. São Paulo: SESES, 2015."
   ]
  },
  {
   "cell_type": "code",
   "execution_count": 15,
   "metadata": {},
   "outputs": [
    {
     "data": {
      "text/html": [
       "<div>\n",
       "<style scoped>\n",
       "    .dataframe tbody tr th:only-of-type {\n",
       "        vertical-align: middle;\n",
       "    }\n",
       "\n",
       "    .dataframe tbody tr th {\n",
       "        vertical-align: top;\n",
       "    }\n",
       "\n",
       "    .dataframe thead th {\n",
       "        text-align: right;\n",
       "    }\n",
       "</style>\n",
       "<table border=\"1\" class=\"dataframe\">\n",
       "  <thead>\n",
       "    <tr style=\"text-align: right;\">\n",
       "      <th>Classes Sociais</th>\n",
       "      <th>Frequência</th>\n",
       "      <th>Porcentagem (%)</th>\n",
       "    </tr>\n",
       "  </thead>\n",
       "  <tbody>\n",
       "    <tr>\n",
       "      <th>A</th>\n",
       "      <td>608</td>\n",
       "      <td>0.791255</td>\n",
       "    </tr>\n",
       "    <tr>\n",
       "      <th>B</th>\n",
       "      <td>2178</td>\n",
       "      <td>2.834461</td>\n",
       "    </tr>\n",
       "    <tr>\n",
       "      <th>C</th>\n",
       "      <td>7599</td>\n",
       "      <td>9.889381</td>\n",
       "    </tr>\n",
       "    <tr>\n",
       "      <th>D</th>\n",
       "      <td>16700</td>\n",
       "      <td>21.733472</td>\n",
       "    </tr>\n",
       "    <tr>\n",
       "      <th>E</th>\n",
       "      <td>49755</td>\n",
       "      <td>64.751432</td>\n",
       "    </tr>\n",
       "  </tbody>\n",
       "</table>\n",
       "</div>"
      ],
      "text/plain": [
       "Classes Sociais  Frequência  Porcentagem (%)\n",
       "A                       608         0.791255\n",
       "B                      2178         2.834461\n",
       "C                      7599         9.889381\n",
       "D                     16700        21.733472\n",
       "E                     49755        64.751432"
      ]
     },
     "execution_count": 15,
     "metadata": {},
     "output_type": "execute_result"
    }
   ],
   "source": [
    "df_renda.head()"
   ]
  },
  {
   "cell_type": "code",
   "execution_count": 16,
   "metadata": {},
   "outputs": [
    {
     "data": {
      "text/plain": [
       "<matplotlib.axes._subplots.AxesSubplot at 0x18fe9a1a940>"
      ]
     },
     "execution_count": 16,
     "metadata": {},
     "output_type": "execute_result"
    },
    {
     "data": {
      "image/png": "[encoded data removed]",
      "text/plain": [
       "<Figure size 576x396 with 1 Axes>"
      ]
     },
     "metadata": {},
     "output_type": "display_data"
    }
   ],
   "source": [
    "df_renda['Frequência'].plot.bar(width=0.98,\n",
    "                               alpha=0.8)"
   ]
  },
  {
   "cell_type": "code",
   "execution_count": 17,
   "metadata": {},
   "outputs": [
    {
     "data": {
      "text/plain": [
       "<matplotlib.axes._subplots.AxesSubplot at 0x18fe9ad6700>"
      ]
     },
     "execution_count": 17,
     "metadata": {},
     "output_type": "execute_result"
    },
    {
     "data": {
      "image/png": "[encoded data removed]",
      "text/plain": [
       "<Figure size 576x396 with 1 Axes>"
      ]
     },
     "metadata": {},
     "output_type": "display_data"
    }
   ],
   "source": [
    "d['Altura'].hist(bins=17)"
   ]
  },
  {
   "cell_type": "code",
   "execution_count": 18,
   "metadata": {},
   "outputs": [
    {
     "data": {
      "text/plain": [
       "<matplotlib.axes._subplots.AxesSubplot at 0x18fe9f2bcd0>"
      ]
     },
     "execution_count": 18,
     "metadata": {},
     "output_type": "execute_result"
    },
    {
     "data": {
      "image/png": "[encoded data removed]",
      "text/plain": [
       "<Figure size 576x396 with 1 Axes>"
      ]
     },
     "metadata": {},
     "output_type": "display_data"
    }
   ],
   "source": [
    "ax = sns.distplot(d['Altura'])\n",
    "ax"
   ]
  },
  {
   "cell_type": "code",
   "execution_count": 20,
   "metadata": {},
   "outputs": [
    {
     "data": {
      "text/plain": [
       "<matplotlib.axes._subplots.AxesSubplot at 0x18fea2ac7f0>"
      ]
     },
     "execution_count": 20,
     "metadata": {},
     "output_type": "execute_result"
    },
    {
     "data": {
      "image/png": "[encoded data removed]",
      "text/plain": [
       "<Figure size 576x396 with 1 Axes>"
      ]
     },
     "metadata": {},
     "output_type": "display_data"
    }
   ],
   "source": [
    "df_renda['Frequência'].plot.kde()"
   ]
  },
  {
   "cell_type": "code",
   "execution_count": null,
   "metadata": {},
   "outputs": [],
   "source": []
  }
 ],
 "metadata": {
  "colab": {
   "collapsed_sections": [],
   "name": "testando.ipynb",
   "provenance": []
  },
  "kernelspec": {
   "display_name": "Python 3",
   "language": "python",
   "name": "python3"
  },
  "language_info": {
   "codemirror_mode": {
    "name": "ipython",
    "version": 3
   },
   "file_extension": ".py",
   "mimetype": "text/x-python",
   "name": "python",
   "nbconvert_exporter": "python",
   "pygments_lexer": "ipython3",
   "version": "3.8.2"
  }
 },
 "nbformat": 4,
 "nbformat_minor": 1
}
